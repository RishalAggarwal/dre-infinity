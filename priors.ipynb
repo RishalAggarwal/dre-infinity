{
 "cells": [
  {
   "cell_type": "code",
   "execution_count": 1,
   "metadata": {},
   "outputs": [],
   "source": [
    "import os\n",
    "import sys\n",
    "import yaml\n",
    "import logging\n",
    "from models.ncsn_unet import (\n",
    "  SinusoidalPosEmb,\n",
    "  GaussianFourierProjection,\n",
    "  Dense\n",
    ")\n",
    "sys.path.append('./nsf')\n",
    "sys.path.append('./mintnet')\n",
    "from nsf.nde import distributions, transforms, flows\n",
    "import argparse\n",
    "\n",
    "from models import utils\n",
    "import torch\n",
    "import torch.nn as nn\n",
    "import pickle\n",
    "from nsf.experiments.images_centering_copula import create_transform"
   ]
  },
  {
   "cell_type": "code",
   "execution_count": 2,
   "metadata": {},
   "outputs": [],
   "source": [
    "os.environ['CUDA_VISIBLE_DEVICES'] = '2'"
   ]
  },
  {
   "cell_type": "code",
   "execution_count": 3,
   "metadata": {},
   "outputs": [
    {
     "name": "stderr",
     "output_type": "stream",
     "text": [
      "/net/galaxy/home/koes/rishal/mnist_priors/dre-infinity/nsf/nde/transforms/standard.py:32: UserWarning: To copy construct from a tensor, it is recommended to use sourceTensor.clone().detach() or sourceTensor.clone().detach().requires_grad_(True), rather than torch.tensor(sourceTensor).\n",
      "  self.register_buffer('_shift', torch.tensor(shift if (shift is not None) else 0.))\n",
      "/tmp/ipykernel_2976339/2214980745.py:59: FutureWarning: You are using `torch.load` with `weights_only=False` (the current default value), which uses the default pickle module implicitly. It is possible to construct malicious pickle data which will execute arbitrary code during unpickling (See https://github.com/pytorch/pytorch/blob/main/SECURITY.md#untrusted-models for more details). In a future release, the default value for `weights_only` will be flipped to `True`. This limits the functions that could be executed during unpickling. Arbitrary objects will no longer be allowed to be loaded via this mode unless they are explicitly allowlisted by the user via `torch.serialization.add_safe_globals`. We recommend you start setting `weights_only=True` for any use case where you don't have full control of the loaded file. Please open an issue on GitHub for any issues related to this experimental feature.\n",
      "  checkpoint = torch.load(ckpt_path)\n"
     ]
    }
   ],
   "source": [
    "ckpt_path = os.path.join('flow_ckpts', 'copula_best.pt')\n",
    "\n",
    "# load data stats, no need to load a separate checkpoint\n",
    "with open(os.path.join( 'flow_ckpts', 'data_means.p'), 'rb') as fp:\n",
    "    data_stats = pickle.load(fp)\n",
    "val_mean = data_stats['val_mean']\n",
    "\n",
    "# stats\n",
    "train_mean = data_stats['train_mean']\n",
    "train_std = data_stats['train_std']\n",
    "\n",
    "# doesn't matter, can just get it from the data_stats object\n",
    "# from torchvision.datasets import MNIST\n",
    "# from datasets import logit_transform\n",
    "# import torchvision\n",
    "# data_dir = '/atlas/u/kechoi/time-score-dre/'\n",
    "# test_transform = torchvision.transforms.Compose([\n",
    "#   torchvision.transforms.Resize(config.data.image_size),\n",
    "#   torchvision.transforms.ToTensor()\n",
    "# ])\n",
    "# dataset = MNIST(os.path.join(data_dir, 'datasets', 'mnist_test'),\n",
    "#                 train=False,\n",
    "#                 download=True,\n",
    "#                 transform=test_transform)\n",
    "# data = dataset.data.unsqueeze(1).float()\n",
    "# # dequantize\n",
    "# data = (data + torch.rand_like(data)) / 256.\n",
    "# data = logit_transform(data)\n",
    "# val_mean = data.mean(0)  # lol will this make a diff? (no)\n",
    "\n",
    "# annoying data transforms\n",
    "c = 1\n",
    "h = w = 28\n",
    "spline_params = {\n",
    "\"apply_unconditional_transform\": False,\n",
    "\"min_bin_height\": 0.001,\n",
    "\"min_bin_width\": 0.001,\n",
    "\"min_derivative\": 0.001,\n",
    "\"num_bins\": 128,\n",
    "\"tail_bound\": 3.0\n",
    "}\n",
    "distribution = distributions.StandardNormal((c * h * w,)).cuda()\n",
    "distribution = distribution\n",
    "\n",
    "train_transform, val_transform, transform = create_transform(\n",
    "  c, h, w, train_mean, val_mean, train_std, levels=2, hidden_channels=64,\n",
    "  steps_per_level=8, alpha=0.000001, num_bits=8, preprocessing=\"realnvp_2alpha\",\n",
    "  multi_scale=False, actnorm=True, coupling_layer_type=\"rational_quadratic_spline\",\n",
    "  spline_params=spline_params, use_resnet=False, num_res_blocks=2,\n",
    "  resnet_batchnorm=False, dropout_prob=0.0)\n",
    "train_transform = train_transform.cuda()\n",
    "val_transform = val_transform.cuda()\n",
    "transform = transform.cuda()\n",
    "\n",
    "# net = flows.Flow(transform, distribution)\n",
    "net = flows.FlowDataTransform(transform, distribution, train_transform, val_transform).cuda()\n",
    "\n",
    "# load checkpoint\n",
    "checkpoint = torch.load(ckpt_path)\n",
    "# net.load_state_dict(checkpoint)\n",
    "\n",
    "# TODO: this is only for testing purposes! will go away if you train again\n",
    "xs = {'_train_transform.'+k: v for k, v in train_transform.state_dict().items()}\n",
    "ys = {'_val_transform.'+k: v for k, v in val_transform.state_dict().items()}\n",
    "new_state_dict = {**checkpoint, **xs, **ys}\n",
    "net.load_state_dict(new_state_dict)\n",
    "net = net.to('cuda')\n",
    "net=net.eval()\n"
   ]
  },
  {
   "cell_type": "code",
   "execution_count": 4,
   "metadata": {},
   "outputs": [
    {
     "name": "stderr",
     "output_type": "stream",
     "text": [
      "/net/galaxy/home/koes/rishal/.conda/envs/dre-infinity/lib/python3.10/site-packages/torch/functional.py:2135: UserWarning: torch.lu is deprecated in favor of torch.linalg.lu_factor / torch.linalg.lu_factor_ex and will be removed in a future PyTorch release.\n",
      "LU, pivots = torch.lu(A, compute_pivots)\n",
      "should be replaced with\n",
      "LU, pivots = torch.linalg.lu_factor(A, compute_pivots)\n",
      "and\n",
      "LU, pivots, info = torch.lu(A, compute_pivots, get_infos=True)\n",
      "should be replaced with\n",
      "LU, pivots, info = torch.linalg.lu_factor_ex(A, compute_pivots) (Triggered internally at /opt/conda/conda-bld/pytorch_1729647327489/work/aten/src/ATen/native/BatchLinearAlgebra.cpp:1990.)\n",
      "  return torch._lu_with_info(A, pivot=pivot, check_errors=(not get_infos))\n"
     ]
    },
    {
     "name": "stdout",
     "output_type": "stream",
     "text": [
      "torch.Size([1000, 784])\n",
      "tensor(-1.3919)\n"
     ]
    }
   ],
   "source": [
    "sample,log_prob=net.sample_and_log_prob(1000)\n",
    "print(sample.shape)\n",
    "print((log_prob/sample.shape[1]).mean())"
   ]
  },
  {
   "cell_type": "markdown",
   "metadata": {},
   "source": [
    "RQ-NSF prior"
   ]
  },
  {
   "cell_type": "code",
   "execution_count": 30,
   "metadata": {},
   "outputs": [
    {
     "name": "stdout",
     "output_type": "stream",
     "text": [
      "loading model from checkpoint: flow_ckpts/rq_nsf_best.pt\n"
     ]
    },
    {
     "name": "stderr",
     "output_type": "stream",
     "text": [
      "/tmp/ipykernel_2976339/3839958577.py:28: FutureWarning: You are using `torch.load` with `weights_only=False` (the current default value), which uses the default pickle module implicitly. It is possible to construct malicious pickle data which will execute arbitrary code during unpickling (See https://github.com/pytorch/pytorch/blob/main/SECURITY.md#untrusted-models for more details). In a future release, the default value for `weights_only` will be flipped to `True`. This limits the functions that could be executed during unpickling. Arbitrary objects will no longer be allowed to be loaded via this mode unless they are explicitly allowlisted by the user via `torch.serialization.add_safe_globals`. We recommend you start setting `weights_only=True` for any use case where you don't have full control of the loaded file. Please open an issue on GitHub for any issues related to this experimental feature.\n",
      "  checkpoint = torch.load(ckpt_path)\n"
     ]
    }
   ],
   "source": [
    "ckpt_path = os.path.join( 'flow_ckpts', 'rq_nsf_best.pt')\n",
    "print('loading model from checkpoint: {}'.format(ckpt_path))\n",
    "\n",
    "# annoying data transforms\n",
    "c = 1\n",
    "h = w = 28\n",
    "spline_params = {\n",
    "\"apply_unconditional_transform\": False,\n",
    "\"min_bin_height\": 0.001,\n",
    "\"min_bin_width\": 0.001,\n",
    "\"min_derivative\": 0.001,\n",
    "\"num_bins\": 8,\n",
    "\"tail_bound\": 3.0\n",
    "}\n",
    "distribution = distributions.StandardNormal((c * h * w,))\n",
    "# TODO (HACK): get rid of hardcoding\n",
    "from nsf.experiments.images import create_transform\n",
    "transform = create_transform(c, h, w,\n",
    "                                levels=2, hidden_channels=64, steps_per_level=8, alpha=0.000001,\n",
    "                                num_bits=8, preprocessing=\"realnvp_2alpha\", multi_scale=False,\n",
    "                                actnorm=True, coupling_layer_type=\"rational_quadratic_spline\",\n",
    "                                spline_params=spline_params,\n",
    "                                use_resnet=False, num_res_blocks=2, resnet_batchnorm=False, dropout_prob=0.0)\n",
    "\n",
    "net = flows.Flow(transform, distribution)\n",
    "\n",
    "# load checkpoint\n",
    "checkpoint = torch.load(ckpt_path)\n",
    "net.load_state_dict(checkpoint)\n",
    "net = net.to('cuda')\n",
    "net=net.eval()"
   ]
  },
  {
   "cell_type": "code",
   "execution_count": 35,
   "metadata": {},
   "outputs": [
    {
     "name": "stdout",
     "output_type": "stream",
     "text": [
      "torch.Size([1000, 1, 28, 28])\n",
      "tensor(-0.7671)\n"
     ]
    }
   ],
   "source": [
    "sample,log_prob=net.sample_and_log_prob(1000)\n",
    "print(sample.shape)\n",
    "print((log_prob/(sample.shape[2]*sample.shape[3])).mean())"
   ]
  },
  {
   "cell_type": "code",
   "execution_count": 21,
   "metadata": {},
   "outputs": [],
   "source": [
    "import pickle\n",
    "from nsf.experiments.images_noise import create_transform\n",
    "\n",
    "# load data stats, no need to load a separate checkpoint\n",
    "with open(os.path.join( 'flow_ckpts', 'test_data_stats.p'), 'rb') as fp:\n",
    "    data_stats = pickle.load(fp)\n",
    "\n",
    "train_mean = data_stats['train_mean'].to('cuda')\n",
    "test_mean = data_stats['test_mean'].to('cuda')\n",
    "val_mean = data_stats['val_mean'].to('cuda')\n",
    "train_cov = data_stats['train_cov_cholesky'].to('cuda')\n",
    "val_cov = data_stats['val_cov_cholesky'].to('cuda')\n",
    "\n",
    "# annoying data transforms\n",
    "c = 1\n",
    "h = w = 28\n",
    "spline_params = {\n",
    "\"apply_unconditional_transform\": False,\n",
    "\"min_bin_height\": 0.001,\n",
    "\"min_bin_width\": 0.001,\n",
    "\"min_derivative\": 0.001,\n",
    "\"num_bins\": 128,\n",
    "\"tail_bound\": 3.0\n",
    "}\n",
    "distribution = distributions.StandardNormal((c * h * w,))\n",
    "# TODO (HACK): get rid of hardcoding\n",
    "\n",
    "train_transform, val_transform, transform = create_transform(\n",
    "    c, h, w, train_mean, val_mean, train_cov, val_cov, levels=2, hidden_channels=64,\n",
    "    steps_per_level=8, alpha=0.000001, num_bits=8, preprocessing=\"realnvp_2alpha\",\n",
    "    multi_scale=False, actnorm=True, coupling_layer_type=\"rational_quadratic_spline\",\n",
    "    spline_params=spline_params, use_resnet=False, num_res_blocks=2,\n",
    "    resnet_batchnorm=False, dropout_prob=0.0)\n",
    "\n",
    "# map this \"flow\" onto the device\n",
    "# net = flows.Flow(transform, distribution)\n",
    "net = flows.FlowDataTransform(transform, distribution, train_transform, val_transform)\n",
    "\n",
    "net = net.to('cuda')"
   ]
  },
  {
   "cell_type": "code",
   "execution_count": 28,
   "metadata": {},
   "outputs": [
    {
     "name": "stdout",
     "output_type": "stream",
     "text": [
      "torch.Size([1000, 1, 28, 28])\n",
      "tensor(-1.7400)\n"
     ]
    }
   ],
   "source": [
    "sample,log_prob=net.sample_and_log_prob(1000)\n",
    "print(sample.shape)\n",
    "print((log_prob/(sample.shape[2]*sample.shape[3])).mean())"
   ]
  }
 ],
 "metadata": {
  "kernelspec": {
   "display_name": "dre-infinity",
   "language": "python",
   "name": "python3"
  },
  "language_info": {
   "codemirror_mode": {
    "name": "ipython",
    "version": 3
   },
   "file_extension": ".py",
   "mimetype": "text/x-python",
   "name": "python",
   "nbconvert_exporter": "python",
   "pygments_lexer": "ipython3",
   "version": "3.10.16"
  }
 },
 "nbformat": 4,
 "nbformat_minor": 2
}
