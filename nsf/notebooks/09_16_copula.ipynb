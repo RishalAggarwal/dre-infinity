{
 "cells": [
  {
   "cell_type": "code",
   "execution_count": 1,
   "id": "bf5f5340",
   "metadata": {},
   "outputs": [],
   "source": [
    "import os\n",
    "import torch\n",
    "import numpy as np\n",
    "import matplotlib\n",
    "import matplotlib.pyplot as plt\n",
    "import seaborn as sns\n",
    "import scipy.stats as stats\n",
    "\n",
    "import torch\n",
    "import torch.nn as nn\n",
    "import torch.nn.functional as F\n",
    "\n",
    "%matplotlib inline\n",
    "%load_ext autoreload\n",
    "%autoreload 2\n",
    "\n",
    "sns.set_context('paper', font_scale=2)\n",
    "sns.set_style('whitegrid')"
   ]
  },
  {
   "cell_type": "markdown",
   "id": "8b163f09",
   "metadata": {},
   "source": [
    "# Setup"
   ]
  },
  {
   "cell_type": "code",
   "execution_count": 2,
   "id": "2427a2c6",
   "metadata": {},
   "outputs": [
    {
     "name": "stdout",
     "output_type": "stream",
     "text": [
      "/atlas/u/kechoi/time-score-dre\n"
     ]
    }
   ],
   "source": [
    "cd /atlas/u/kechoi/time-score-dre/"
   ]
  },
  {
   "cell_type": "code",
   "execution_count": 3,
   "id": "eeb32101",
   "metadata": {},
   "outputs": [],
   "source": [
    "import sde_lib\n",
    "import torch.autograd as autograd\n",
    "import math"
   ]
  },
  {
   "cell_type": "code",
   "execution_count": 4,
   "id": "457c9073",
   "metadata": {},
   "outputs": [],
   "source": [
    "def dict2namespace(config):\n",
    "  namespace = argparse.Namespace()\n",
    "  for key, value in config.items():\n",
    "    if isinstance(value, dict):\n",
    "      new_value = dict2namespace(value)\n",
    "    else:\n",
    "      new_value = value\n",
    "    setattr(namespace, key, new_value)\n",
    "  return namespace"
   ]
  },
  {
   "cell_type": "code",
   "execution_count": 6,
   "id": "dfc64851",
   "metadata": {},
   "outputs": [
    {
     "name": "stderr",
     "output_type": "stream",
     "text": [
      "/atlas/u/kechoi/software/miniconda3/lib/python3.7/site-packages/torch/utils/data/dataloader.py:481: UserWarning: This DataLoader will create 4 worker processes in total. Our suggested max number of worker in current system is 2, which is smaller than what this DataLoader is going to create. Please be aware that excessive worker creation might get DataLoader running slow or even freeze, lower the worker number to avoid potential slowness/freeze if necessary.\n",
      "  cpuset_checked))\n"
     ]
    }
   ],
   "source": [
    "import os\n",
    "import yaml\n",
    "import argparse\n",
    "from torchvision.datasets import MNIST\n",
    "import torchvision.transforms as transforms\n",
    "\n",
    "# config_path = '/atlas/u/kechoi/time-score-dre/mintnet/configs/mnist_nice.yml'\n",
    "# with open(os.path.join('configs', config_path), 'r') as f:\n",
    "#   config = yaml.load(f)\n",
    "# config = dict2namespace(config)\n",
    "\n",
    "# add device\n",
    "image_size = 28\n",
    "device = torch.device('cuda') if torch.cuda.is_available() else torch.device('cpu')\n",
    "# config.device = device\n",
    "\n",
    "data_dir = '/atlas/u/kechoi/time-score-dre/'\n",
    "train_transform = test_transform = transforms.Compose([\n",
    "  transforms.Resize(image_size),\n",
    "  transforms.ToTensor()\n",
    "])\n",
    "train_ds = MNIST(os.path.join(data_dir, 'datasets', 'mnist'),\n",
    "                 train=True,\n",
    "                 download=True,\n",
    "                 transform=train_transform)\n",
    "# subset to first 50K examples for train\n",
    "train_indices = np.arange(50000)\n",
    "train_ds = torch.utils.data.Subset(train_ds, train_indices)\n",
    "eval_ds = MNIST(os.path.join(data_dir, 'datasets', 'mnist_test'),\n",
    "                train=False, download=True,\n",
    "                transform=test_transform)\n",
    "\n",
    "# TODO: not set up for actual evaluation yet!\n",
    "train_ds = torch.utils.data.DataLoader(\n",
    "  train_ds, 64,\n",
    "  shuffle=True, num_workers=4, drop_last=False)\n",
    "eval_ds = torch.utils.data.DataLoader(\n",
    "  eval_ds, 64,\n",
    "  shuffle=False, num_workers=4,\n",
    "  drop_last=False)\n",
    "\n",
    "# train_ds, eval_ds, _ = get_encoded_dataset(config, False)\n",
    "train_iter = iter(train_ds)  # pytype: disable=wrong-arg-types\n",
    "eval_iter = iter(eval_ds)"
   ]
  },
  {
   "cell_type": "markdown",
   "id": "cf5c9453",
   "metadata": {},
   "source": [
    "---"
   ]
  },
  {
   "cell_type": "markdown",
   "id": "fdee12a4",
   "metadata": {},
   "source": [
    "# Load pre-trained flow"
   ]
  },
  {
   "cell_type": "code",
   "execution_count": 7,
   "id": "6059b560",
   "metadata": {},
   "outputs": [],
   "source": [
    "import os\n",
    "import sys\n",
    "import yaml\n",
    "\n",
    "# TODO: get rid of hard-coding\n",
    "sys.path.append('/atlas/u/kechoi/time-score-dre/mintnet')\n",
    "from mintnet.models.cnn_flow import DataParallelWithSampling\n",
    "from mintnet.models.cnn_flow import Net\n",
    "from mintnet.models.nice import NICE"
   ]
  },
  {
   "cell_type": "code",
   "execution_count": 8,
   "id": "51519d86",
   "metadata": {},
   "outputs": [],
   "source": [
    "import sys\n",
    "sys.path.append('/atlas/u/kechoi/time-score-dre/nsf/')\n",
    "from nsf.nde import distributions, transforms, flows"
   ]
  },
  {
   "cell_type": "code",
   "execution_count": 23,
   "id": "691c9f60",
   "metadata": {},
   "outputs": [],
   "source": [
    "from nsf.experiments.images_centering import (\n",
    "  create_transform, \n",
    "  create_flow,\n",
    "  get_train_valid_data,\n",
    "  get_data_stats,\n",
    "  get_test_data\n",
    ")"
   ]
  },
  {
   "cell_type": "code",
   "execution_count": 11,
   "id": "7d1221fc",
   "metadata": {},
   "outputs": [],
   "source": [
    "def load_pretrained_flow(name, test=False):\n",
    "  print('loading flow model: {}'.format(name))\n",
    "  # TODO: get rid of hard-coding\n",
    "  config_path = '/atlas/u/kechoi/time-score-dre/mintnet/configs/'\n",
    "  if name in ['mintnet', 'nice']:\n",
    "    if name == 'mintnet':\n",
    "      config_path = os.path.join(config_path, 'mnist_mintnet.yml')\n",
    "      model_cls = Net\n",
    "      ckpt_path = '/atlas/u/kechoi/time-score-dre/flow_ckpts/mintnet_checkpoint.pth'\n",
    "    else:\n",
    "      config_path = os.path.join(config_path, 'mnist_nice.yml')\n",
    "      model_cls = NICE\n",
    "      # the one that is used is a better-trained NICE flow than the commented one\n",
    "      # ckpt_path = '/atlas/u/kechoi/time-score-dre/flow_ckpts/nice_checkpoint.pth'\n",
    "      ckpt_path = '/atlas/u/kechoi/time-score-dre/flow_ckpts/bs32_nice_checkpoint.pth'\n",
    "    print('loading model from checkpoint: {}'.format(ckpt_path))\n",
    "    logging.info('loading model from checkpoint: {}'.format(ckpt_path))\n",
    "    with open(os.path.join('configs', config_path), 'r') as f:\n",
    "      config = yaml.load(f)\n",
    "    new_config = dict2namespace(config)\n",
    "\n",
    "    # add device\n",
    "    device = torch.device('cuda') if torch.cuda.is_available() else torch.device(\n",
    "      'cpu')\n",
    "    new_config.device = device\n",
    "\n",
    "    # load pretrained model\n",
    "    net = model_cls(new_config).to(new_config.device)\n",
    "    net = DataParallelWithSampling(net)\n",
    "\n",
    "    # doesn't seem to have been trained with EMA\n",
    "    # if new_config.training.ema:\n",
    "    #   ema_helper = EMAHelper(mu=0.999)\n",
    "    #   ema_helper.register(net)\n",
    "\n",
    "    # load checkpoint\n",
    "    states = torch.load(ckpt_path, map_location=new_config.device)\n",
    "    net.load_state_dict(states[0])\n",
    "  # this is with centering data\n",
    "  elif name == 'rq_nsf':\n",
    "    # 12 is no dropout, 11 is dropout\n",
    "    ckpt_path = '/atlas/u/kechoi/time-score-dre/nsf/runs/images/mnist-8-bit-12/flow_best.pt'\n",
    "    print('loading model from checkpoint: {}'.format(ckpt_path))\n",
    "    \n",
    "    # get other things\n",
    "    train_dataset, val_dataset, (c, h, w) = get_train_valid_data('mnist', 8, .01)\n",
    "    train_mean, val_mean = get_data_stats(train_dataset, val_dataset)\n",
    "    test_dataset, (c, h, w) = get_test_data('mnist', 8)\n",
    "    _, test_mean = get_data_stats(test_dataset, test_dataset, train=False)\n",
    "    train_mean = train_mean.cuda()\n",
    "    test_mean = test_mean.cuda()\n",
    "\n",
    "    # annoying data transforms\n",
    "    c = 1\n",
    "    h = w = 28\n",
    "    spline_params = {\n",
    "    \"apply_unconditional_transform\": False,\n",
    "    \"min_bin_height\": 0.001,\n",
    "    \"min_bin_width\": 0.001,\n",
    "    \"min_derivative\": 0.001,\n",
    "    \"num_bins\": 8,\n",
    "    \"tail_bound\": 3.0\n",
    "    }\n",
    "    distribution = distributions.StandardNormal((c * h * w,))\n",
    "    # TODO (HACK): get rid of hardcoding (beware of hyperparams)\n",
    "    train_transform, test_transform, transform = create_transform(c, h, w,\n",
    "                                 train_mean, test_mean,\n",
    "                                 levels=2, hidden_channels=64, steps_per_level=8, alpha=0.000001,\n",
    "                                 num_bits=8, preprocessing=\"realnvp_2alpha\", multi_scale=False,\n",
    "                                 actnorm=True, coupling_layer_type=\"rational_quadratic_spline\",\n",
    "                                 spline_params=spline_params,\n",
    "                                 use_resnet=False, num_res_blocks=2, resnet_batchnorm=False, dropout_prob=0.)\n",
    "\n",
    "    net = flows.Flow(transform, distribution)\n",
    "\n",
    "    # load checkpoint\n",
    "    checkpoint = torch.load(ckpt_path)\n",
    "    net.load_state_dict(checkpoint)\n",
    "    net = net.to('cuda')\n",
    "#     net = torch.nn.DataParallel(net)\n",
    "  elif name == 'rq_nsf_copula':\n",
    "    import pickle\n",
    "    from nsf.experiments.images_centering_copula import create_transform\n",
    "\n",
    "    # ckpt_path = '/atlas/u/kechoi/time-score-dre/nsf/runs/images/mnist-8-bit-2/flow_best.pt'\n",
    "    # ckpt_path = '/atlas/u/kechoi/time-score-dre/nsf/runs/images/mnist-8-bit-6/flow_last.pt'\n",
    "    ckpt_path = '/atlas/u/kechoi/time-score-dre/nsf/runs/images/mnist-8-bit-10/flow_best.pt'\n",
    "    print('loading model from checkpoint: {}'.format(ckpt_path))\n",
    "\n",
    "    # load data stats, no need to load a separate checkpoint\n",
    "    if not test:\n",
    "      with open('/atlas/u/kechoi/time-score-dre/nsf/runs/images/mnist-8-bit-10/data_means.p', 'rb') as fp:\n",
    "          data_stats = pickle.load(fp)\n",
    "      val_mean = data_stats['val_mean']\n",
    "    else:  # val_mean = test_mean here\n",
    "      print('loading test statistics for flow evaluation!')\n",
    "      with open('/atlas/u/kechoi/time-score-dre/nsf/runs/images/mnist-8-bit-10/test_data_means.p', 'rb') as fp:\n",
    "          data_stats = pickle.load(fp)\n",
    "      val_mean = data_stats['test_mean']\n",
    "\n",
    "    # stats\n",
    "    train_mean = data_stats['train_mean']\n",
    "    train_std = data_stats['train_std']\n",
    "\n",
    "    # from torchvision.datasets import MNIST\n",
    "    # from datasets import logit_transform\n",
    "    # import torchvision\n",
    "    # data_dir = '/atlas/u/kechoi/time-score-dre/'\n",
    "    # test_transform = torchvision.transforms.Compose([\n",
    "    #   torchvision.transforms.Resize(config.data.image_size),\n",
    "    #   torchvision.transforms.ToTensor()\n",
    "    # ])\n",
    "    # dataset = MNIST(os.path.join(data_dir, 'datasets', 'mnist_test'),\n",
    "    #                 train=False,\n",
    "    #                 download=True,\n",
    "    #                 transform=test_transform)\n",
    "    # data = dataset.data.unsqueeze(1).float()\n",
    "    # # dequantize\n",
    "    # data = (data + torch.rand_like(data)) / 256.\n",
    "    # data = logit_transform(data)\n",
    "    # val_mean = data.mean(0)  # lol will this make a diff? no\n",
    "\n",
    "    # annoying data transforms\n",
    "    c = 1\n",
    "    h = w = 28\n",
    "    spline_params = {\n",
    "    \"apply_unconditional_transform\": False,\n",
    "    \"min_bin_height\": 0.001,\n",
    "    \"min_bin_width\": 0.001,\n",
    "    \"min_derivative\": 0.001,\n",
    "    \"num_bins\": 128,\n",
    "    \"tail_bound\": 3.0\n",
    "    }\n",
    "    distribution = distributions.StandardNormal((c * h * w,))\n",
    "\n",
    "    train_transform, val_transform, transform = create_transform(\n",
    "      c, h, w, train_mean, val_mean, train_std, levels=2, hidden_channels=64,\n",
    "      steps_per_level=8, alpha=0.000001, num_bits=8, preprocessing=\"realnvp_2alpha\",\n",
    "      multi_scale=False, actnorm=True, coupling_layer_type=\"rational_quadratic_spline\",\n",
    "      spline_params=spline_params, use_resnet=False, num_res_blocks=2,\n",
    "      resnet_batchnorm=False, dropout_prob=0.0)\n",
    "\n",
    "    # net = flows.Flow(transform, distribution)\n",
    "    net = flows.FlowDataTransform(transform, distribution, train_transform, val_transform)\n",
    "\n",
    "    # load checkpoint\n",
    "    checkpoint = torch.load(ckpt_path)\n",
    "    # net.load_state_dict(checkpoint)\n",
    "\n",
    "    # TODO: this is only for testing purposes! will go away if you train again\n",
    "    xs = {'_train_transform.'+k: v for k, v in train_transform.state_dict().items()}\n",
    "    ys = {'_val_transform.'+k: v for k, v in val_transform.state_dict().items()}\n",
    "    new_state_dict = {**checkpoint, **xs, **ys}\n",
    "    net.load_state_dict(new_state_dict)\n",
    "\n",
    "    net = net.to('cuda')\n",
    "#     net = torch.nn.DataParallel(net)\n",
    "  else:\n",
    "    assert name == 'realnvp'\n",
    "    ckpt_path = '/atlas/u/kechoi/time-score-dre/flow_ckpts/real_nvp_mnist_best.pth.tar'\n",
    "    print('loading model from checkpoint: {}'.format(ckpt_path))\n",
    "\n",
    "    net = RealNVP(num_scales=2, in_channels=1, mid_channels=64,\n",
    "                  num_blocks=8)\n",
    "    net = net.to('cuda')\n",
    "    net = torch.nn.DataParallel(net)\n",
    "\n",
    "    # load checkpoint\n",
    "    checkpoint = torch.load(ckpt_path)\n",
    "    net.load_state_dict(checkpoint['net'])\n",
    "\n",
    "  return net"
   ]
  },
  {
   "cell_type": "code",
   "execution_count": 12,
   "id": "e22e50a6",
   "metadata": {},
   "outputs": [
    {
     "name": "stdout",
     "output_type": "stream",
     "text": [
      "loading flow model: rq_nsf_copula\n",
      "loading model from checkpoint: /atlas/u/kechoi/time-score-dre/nsf/runs/images/mnist-8-bit-10/flow_best.pt\n",
      "loading test statistics for flow evaluation!\n"
     ]
    },
    {
     "name": "stderr",
     "output_type": "stream",
     "text": [
      "/atlas/u/kechoi/time-score-dre/nsf/nde/transforms/standard.py:32: UserWarning: To copy construct from a tensor, it is recommended to use sourceTensor.clone().detach() or sourceTensor.clone().detach().requires_grad_(True), rather than torch.tensor(sourceTensor).\n",
      "  self.register_buffer('_shift', torch.tensor(shift if (shift is not None) else 0.))\n"
     ]
    },
    {
     "data": {
      "text/plain": [
       "FlowDataTransform(\n",
       "  (_transform): CompositeTransform(\n",
       "    (_transforms): ModuleList(\n",
       "      (0): CompositeTransform(\n",
       "        (_transforms): ModuleList(\n",
       "          (0): CompositeTransform(\n",
       "            (_transforms): ModuleList(\n",
       "              (0): AffineTransformv3()\n",
       "              (1): AffineTransform()\n",
       "              (2): PiecewiseRationalQuadraticCDF()\n",
       "              (3): AffineTransform()\n",
       "              (4): NaiveLinear()\n",
       "            )\n",
       "          )\n",
       "        )\n",
       "      )\n",
       "    )\n",
       "  )\n",
       "  (_distribution): StandardNormal()\n",
       "  (_train_transform): CompositeTransform(\n",
       "    (_transforms): ModuleList(\n",
       "      (0): AffineScalarTransform()\n",
       "      (1): AffineScalarTransform()\n",
       "      (2): Logit(\n",
       "        (_transform): Sigmoid()\n",
       "      )\n",
       "      (3): AffineScalarTransform()\n",
       "      (4): ReshapeTransform()\n",
       "    )\n",
       "  )\n",
       "  (_val_transform): CompositeTransform(\n",
       "    (_transforms): ModuleList(\n",
       "      (0): AffineScalarTransform()\n",
       "      (1): AffineScalarTransform()\n",
       "      (2): Logit(\n",
       "        (_transform): Sigmoid()\n",
       "      )\n",
       "      (3): AffineScalarTransform()\n",
       "      (4): ReshapeTransform()\n",
       "    )\n",
       "  )\n",
       ")"
      ]
     },
     "execution_count": 12,
     "metadata": {},
     "output_type": "execute_result"
    }
   ],
   "source": [
    "flow = load_pretrained_flow('rq_nsf_copula', test=True)\n",
    "flow.eval()"
   ]
  },
  {
   "cell_type": "code",
   "execution_count": 13,
   "id": "46bc5f91",
   "metadata": {},
   "outputs": [
    {
     "data": {
      "text/plain": [
       "FlowDataTransform(\n",
       "  (_transform): CompositeTransform(\n",
       "    (_transforms): ModuleList(\n",
       "      (0): CompositeTransform(\n",
       "        (_transforms): ModuleList(\n",
       "          (0): CompositeTransform(\n",
       "            (_transforms): ModuleList(\n",
       "              (0): AffineTransformv3()\n",
       "              (1): AffineTransform()\n",
       "              (2): PiecewiseRationalQuadraticCDF()\n",
       "              (3): AffineTransform()\n",
       "              (4): NaiveLinear()\n",
       "            )\n",
       "          )\n",
       "        )\n",
       "      )\n",
       "    )\n",
       "  )\n",
       "  (_distribution): StandardNormal()\n",
       "  (_train_transform): CompositeTransform(\n",
       "    (_transforms): ModuleList(\n",
       "      (0): AffineScalarTransform()\n",
       "      (1): AffineScalarTransform()\n",
       "      (2): Logit(\n",
       "        (_transform): Sigmoid()\n",
       "      )\n",
       "      (3): AffineScalarTransform()\n",
       "      (4): ReshapeTransform()\n",
       "    )\n",
       "  )\n",
       "  (_val_transform): CompositeTransform(\n",
       "    (_transforms): ModuleList(\n",
       "      (0): AffineScalarTransform()\n",
       "      (1): AffineScalarTransform()\n",
       "      (2): Logit(\n",
       "        (_transform): Sigmoid()\n",
       "      )\n",
       "      (3): AffineScalarTransform()\n",
       "      (4): ReshapeTransform()\n",
       "    )\n",
       "  )\n",
       ")"
      ]
     },
     "execution_count": 13,
     "metadata": {},
     "output_type": "execute_result"
    }
   ],
   "source": [
    "flow.eval()"
   ]
  },
  {
   "cell_type": "markdown",
   "id": "5e2cf4fd",
   "metadata": {},
   "source": [
    "---"
   ]
  },
  {
   "cell_type": "code",
   "execution_count": null,
   "id": "bd332b42",
   "metadata": {},
   "outputs": [],
   "source": [
    "# count trainable parameters"
   ]
  },
  {
   "cell_type": "code",
   "execution_count": 15,
   "id": "14159c08",
   "metadata": {},
   "outputs": [
    {
     "data": {
      "text/plain": [
       "FlowDataTransform(\n",
       "  (_transform): CompositeTransform(\n",
       "    (_transforms): ModuleList(\n",
       "      (0): CompositeTransform(\n",
       "        (_transforms): ModuleList(\n",
       "          (0): CompositeTransform(\n",
       "            (_transforms): ModuleList(\n",
       "              (0): AffineTransformv3()\n",
       "              (1): AffineTransform()\n",
       "              (2): PiecewiseRationalQuadraticCDF()\n",
       "              (3): AffineTransform()\n",
       "              (4): NaiveLinear()\n",
       "            )\n",
       "          )\n",
       "        )\n",
       "      )\n",
       "    )\n",
       "  )\n",
       "  (_distribution): StandardNormal()\n",
       "  (_train_transform): CompositeTransform(\n",
       "    (_transforms): ModuleList(\n",
       "      (0): AffineScalarTransform()\n",
       "      (1): AffineScalarTransform()\n",
       "      (2): Logit(\n",
       "        (_transform): Sigmoid()\n",
       "      )\n",
       "      (3): AffineScalarTransform()\n",
       "      (4): ReshapeTransform()\n",
       "    )\n",
       "  )\n",
       "  (_val_transform): CompositeTransform(\n",
       "    (_transforms): ModuleList(\n",
       "      (0): AffineScalarTransform()\n",
       "      (1): AffineScalarTransform()\n",
       "      (2): Logit(\n",
       "        (_transform): Sigmoid()\n",
       "      )\n",
       "      (3): AffineScalarTransform()\n",
       "      (4): ReshapeTransform()\n",
       "    )\n",
       "  )\n",
       ")"
      ]
     },
     "execution_count": 15,
     "metadata": {},
     "output_type": "execute_result"
    }
   ],
   "source": [
    "flow"
   ]
  },
  {
   "cell_type": "code",
   "execution_count": 23,
   "id": "3ff72c77",
   "metadata": {},
   "outputs": [
    {
     "name": "stdout",
     "output_type": "stream",
     "text": [
      "_transforms.0._transforms.0._transforms.1._shift torch.Size([784])\n",
      "_transforms.0._transforms.0._transforms.1._scale torch.Size([784])\n",
      "_transforms.0._transforms.0._transforms.2.unnormalized_widths torch.Size([784, 128])\n",
      "_transforms.0._transforms.0._transforms.2.unnormalized_heights torch.Size([784, 128])\n",
      "_transforms.0._transforms.0._transforms.2.unnormalized_derivatives torch.Size([784, 127])\n",
      "_transforms.0._transforms.0._transforms.3._shift torch.Size([784])\n",
      "_transforms.0._transforms.0._transforms.3._scale torch.Size([784])\n",
      "_transforms.0._transforms.0._transforms.4.bias torch.Size([784])\n",
      "_transforms.0._transforms.0._transforms.4._weight torch.Size([784, 784])\n"
     ]
    }
   ],
   "source": [
    "params = []\n",
    "for param in flow._transform.named_parameters():\n",
    "  print(param[0], param[1].size())\n",
    "  params.append(param[1])"
   ]
  },
  {
   "cell_type": "code",
   "execution_count": 25,
   "id": "4dcf03b7",
   "metadata": {},
   "outputs": [],
   "source": [
    "def to_numpy(x):\n",
    "  return x.data.cpu().detach().numpy()"
   ]
  },
  {
   "cell_type": "code",
   "execution_count": 29,
   "id": "314d179b",
   "metadata": {},
   "outputs": [
    {
     "data": {
      "image/png": "[encoded data removed]",
      "text/plain": [
       "<Figure size 432x288 with 1 Axes>"
      ]
     },
     "metadata": {
      "needs_background": "light"
     },
     "output_type": "display_data"
    }
   ],
   "source": [
    "%matplotlib inline\n",
    "_ = plt.hist(to_numpy(params[0]), bins=50)"
   ]
  },
  {
   "cell_type": "code",
   "execution_count": 31,
   "id": "90ef0753",
   "metadata": {
    "scrolled": false
   },
   "outputs": [
    {
     "data": {
      "image/png": "[encoded data removed]",
      "text/plain": [
       "<Figure size 432x288 with 1 Axes>"
      ]
     },
     "metadata": {
      "needs_background": "light"
     },
     "output_type": "display_data"
    },
    {
     "data": {
      "image/png": "[encoded data removed]",
      "text/plain": [
       "<Figure size 432x288 with 1 Axes>"
      ]
     },
     "metadata": {
      "needs_background": "light"
     },
     "output_type": "display_data"
    },
    {
     "data": {
      "image/png": "[encoded data removed]",
      "text/plain": [
       "<Figure size 432x288 with 1 Axes>"
      ]
     },
     "metadata": {
      "needs_background": "light"
     },
     "output_type": "display_data"
    },
    {
     "data": {
      "image/png": "[encoded data removed]",
      "text/plain": [
       "<Figure size 432x288 with 1 Axes>"
      ]
     },
     "metadata": {
      "needs_background": "light"
     },
     "output_type": "display_data"
    },
    {
     "data": {
      "image/png": "[encoded data removed]",
      "text/plain": [
       "<Figure size 432x288 with 1 Axes>"
      ]
     },
     "metadata": {
      "needs_background": "light"
     },
     "output_type": "display_data"
    },
    {
     "data": {
      "image/png": "[encoded data removed]",
      "text/plain": [
       "<Figure size 432x288 with 1 Axes>"
      ]
     },
     "metadata": {
      "needs_background": "light"
     },
     "output_type": "display_data"
    },
    {
     "data": {
      "image/png": "[encoded data removed]",
      "text/plain": [
       "<Figure size 432x288 with 1 Axes>"
      ]
     },
     "metadata": {
      "needs_background": "light"
     },
     "output_type": "display_data"
    },
    {
     "data": {
      "image/png": "[encoded data removed]",
      "text/plain": [
       "<Figure size 432x288 with 1 Axes>"
      ]
     },
     "metadata": {
      "needs_background": "light"
     },
     "output_type": "display_data"
    },
    {
     "data": {
      "image/png": "[encoded data removed]",
      "text/plain": [
       "<Figure size 432x288 with 1 Axes>"
      ]
     },
     "metadata": {
      "needs_background": "light"
     },
     "output_type": "display_data"
    }
   ],
   "source": [
    "for i in range(len(params)):\n",
    "  _ = plt.hist(to_numpy(params[i]), bins=50)\n",
    "  plt.show()"
   ]
  },
  {
   "cell_type": "code",
   "execution_count": 21,
   "id": "56feaf13",
   "metadata": {},
   "outputs": [
    {
     "data": {
      "text/plain": [
       "Parameter containing:\n",
       "tensor([ 7.9419e-01, -1.5293e-02,  5.8415e-01,  1.9036e-01,  3.1336e-01,\n",
       "         2.5546e-01,  8.2028e-01,  7.5404e-01,  4.5437e-02,  4.3729e-01,\n",
       "         5.1247e-01,  4.9208e-01,  4.5808e-01,  4.8156e-01,  2.1146e-01,\n",
       "         3.1749e-01,  2.2660e-01,  4.1800e-01,  5.2052e-01,  8.0487e-01,\n",
       "         8.4792e-01,  1.3530e-02,  8.1728e-01, -8.1670e-02,  8.2826e-01,\n",
       "         8.8928e-01,  3.0212e-01,  8.5861e-01,  7.8422e-01,  5.5188e-02,\n",
       "         4.2150e-01,  8.0987e-01,  7.7677e-01,  9.7780e-01,  7.6083e-01,\n",
       "         3.7214e-01,  2.4807e-01,  1.1064e-02,  4.9835e-01,  7.5476e-01,\n",
       "         7.4287e-01,  6.9735e-01,  5.8349e-01,  2.4126e-02,  4.1822e-01,\n",
       "         2.0494e-01,  6.3655e-01,  7.6782e-01,  4.0116e-01,  3.6284e-01,\n",
       "         3.7732e-01,  6.8597e-02,  1.0242e-01,  2.0811e-01,  5.6302e-02,\n",
       "         8.1290e-01,  3.3269e-01,  5.4742e-01,  2.9157e-01,  9.3790e-02,\n",
       "        -7.6443e-02,  9.2272e-01,  5.0189e-01,  8.3974e-01,  4.8259e-01,\n",
       "         2.2423e-01,  7.3296e-01,  6.0770e-01,  3.7087e-01,  3.2937e-01,\n",
       "         2.2938e-01,  6.9802e-01,  2.2845e-02,  3.8831e-01,  7.9283e-01,\n",
       "         3.8634e-01,  7.9164e-01,  4.4822e-01,  3.7340e-01,  6.9029e-01,\n",
       "         1.3309e-01,  7.0241e-01,  3.0584e-01,  4.0756e-01,  2.0682e-01,\n",
       "         6.3094e-01,  4.3996e-01,  2.9027e-01,  6.2098e-01,  5.2273e-01,\n",
       "         6.3931e-01,  3.7821e-02,  5.0318e-01,  3.2124e-01,  6.1643e-01,\n",
       "         8.6482e-01,  4.5366e-01,  8.0992e-01,  1.2940e-01,  4.2839e-01,\n",
       "         4.3741e-01,  6.5990e-01,  6.6393e-01,  3.4153e-01,  1.4536e-01,\n",
       "         9.5055e-02,  5.8829e-01,  2.4055e-01,  9.6414e-01,  1.5255e-01,\n",
       "         8.2575e-01,  2.6243e-02,  6.2950e-03,  3.4032e-01,  1.9105e-01,\n",
       "         7.3968e-01,  5.1772e-01,  5.4417e-01,  3.2502e-01,  3.9368e-02,\n",
       "         6.6132e-01,  9.4781e-02,  8.1043e-01,  7.3791e-01,  5.1534e-01,\n",
       "         2.3959e-01,  1.9482e-01,  9.3267e-01,  6.5618e-01,  4.3211e-01,\n",
       "         3.9193e-01,  1.9718e-01,  1.2787e-01,  3.8863e-02,  9.2256e-01,\n",
       "         6.9278e-01,  7.7889e-01, -4.4220e-02,  4.3885e-01,  1.7698e-01,\n",
       "         3.5659e-01,  5.2882e-01,  1.0023e+00,  5.1325e-01,  6.2018e-01,\n",
       "         7.1391e-01,  5.0506e-01,  3.3076e-01,  7.5799e-01,  2.8359e-01,\n",
       "         5.8434e-01,  1.7564e-01,  4.1193e-01,  5.6003e-01,  3.3278e-01,\n",
       "         4.8424e-01,  6.6945e-01,  7.2516e-02,  9.3939e-01,  3.2614e-01,\n",
       "         6.5485e-01,  6.2321e-01,  5.9020e-01, -4.6252e-02,  2.9405e-01,\n",
       "         6.0591e-01,  2.8296e-01,  3.9095e-01,  4.7108e-01,  5.8595e-01,\n",
       "        -9.4643e-02, -5.9903e-03,  6.0602e-02,  6.9395e-01,  3.8154e-01,\n",
       "         1.3718e-01,  8.4821e-01,  4.8308e-01,  3.6048e-01,  6.2867e-01,\n",
       "         6.7915e-01,  3.6877e-01,  6.0322e-01,  7.6227e-01,  3.5420e-01,\n",
       "         6.7150e-01,  3.5236e-01,  1.9170e-01,  3.7603e-01,  4.8478e-02,\n",
       "         6.1877e-01,  5.7048e-01,  7.6531e-01,  1.2627e-01,  2.0439e-01,\n",
       "         5.9444e-01,  8.6425e-01,  4.9101e-01,  2.9824e-01,  4.4264e-01,\n",
       "         3.1204e-01,  2.7320e-01,  7.8519e-01,  1.3889e-01,  9.3859e-01,\n",
       "         7.5171e-01,  2.9777e-01,  5.0107e-01,  8.6934e-02,  3.2255e-01,\n",
       "         7.8306e-02,  3.0900e-01,  7.0925e-02,  9.6560e-01,  8.4858e-01,\n",
       "         4.3386e-01,  4.5389e-01,  4.8696e-01,  5.6134e-01, -4.2196e-02,\n",
       "         6.4772e-01,  6.5693e-01,  6.7094e-02,  9.2342e-01,  2.1365e-01,\n",
       "         1.6223e-01,  1.6825e-01,  1.6742e-02,  6.2825e-01,  7.6109e-01,\n",
       "         8.9706e-01,  1.8683e-01,  1.7749e-01,  2.7396e-01,  8.5773e-01,\n",
       "         9.2035e-01,  7.5045e-02,  3.9702e-02,  2.7907e-01,  5.3491e-01,\n",
       "         2.9498e-02,  8.0294e-01,  7.8019e-01,  2.2586e-01,  4.3725e-01,\n",
       "         3.8062e-01,  5.7495e-01,  5.1401e-01,  4.0386e-01,  3.8195e-01,\n",
       "         4.9009e-01,  7.0755e-01,  5.2703e-01,  3.8219e-02, -2.2710e-02,\n",
       "         3.3250e-01,  7.1028e-01,  8.9341e-01,  2.3901e-01,  5.7516e-01,\n",
       "         1.9732e-01,  7.2280e-01,  7.8037e-01,  6.8053e-02,  6.9130e-01,\n",
       "         6.7160e-01,  7.7048e-01,  8.8999e-01,  2.1806e-01,  6.8336e-01,\n",
       "         3.7012e-01,  2.1610e-01,  8.9326e-01, -5.9698e-03,  3.3824e-01,\n",
       "         9.0391e-01,  5.9475e-01,  2.2964e-01,  6.6638e-01,  7.4058e-01,\n",
       "         5.3938e-01,  7.1102e-01,  1.1401e-01,  7.6816e-01,  1.8445e-01,\n",
       "         8.5564e-01,  6.9580e-01,  8.4886e-01,  4.2632e-01,  6.0448e-01,\n",
       "         9.1241e-01,  9.1949e-01,  3.8022e-01,  4.5497e-01,  8.2067e-01,\n",
       "         8.2190e-01,  6.1923e-01,  3.5825e-01,  4.4385e-03,  8.3733e-01,\n",
       "         2.5267e-01,  9.7377e-01,  5.0519e-01,  6.3809e-01,  1.9389e-01,\n",
       "         6.8830e-01,  1.7026e-01,  2.2476e-02,  3.5399e-01,  3.0768e-01,\n",
       "         6.4281e-01,  8.3591e-01,  6.6778e-01,  9.3782e-01,  3.4857e-01,\n",
       "         5.9935e-01,  7.1193e-01,  1.3772e-01, -5.3440e-03,  7.1875e-01,\n",
       "         3.6808e-01,  7.2314e-01,  6.5212e-01,  5.3438e-02,  9.9177e-02,\n",
       "         5.9154e-01,  8.3117e-01,  5.3743e-01,  7.8478e-01,  1.2617e-01,\n",
       "         4.5154e-04,  8.7718e-01,  6.6934e-01,  3.4360e-01,  1.3798e-02,\n",
       "        -1.1567e-02,  4.4420e-01,  7.9243e-02,  1.8771e-01,  3.2117e-02,\n",
       "         8.9890e-01,  9.4183e-01,  8.7417e-01,  4.4165e-02,  8.7603e-01,\n",
       "         4.5710e-02,  3.5156e-01,  1.5354e-01,  6.3867e-01,  4.6013e-01,\n",
       "         1.0725e-01,  5.5455e-01,  5.8132e-01,  6.8621e-01,  2.9247e-01,\n",
       "         7.2349e-01,  7.3829e-01,  8.9833e-01,  2.0596e-01,  7.3795e-01,\n",
       "         1.8238e-01,  7.4219e-01,  8.5996e-01,  1.8069e-01,  3.3746e-01,\n",
       "         8.4747e-01,  8.9203e-03,  1.3743e-02,  9.2745e-01,  3.3732e-01,\n",
       "         2.2822e-01,  1.7038e-01,  6.4042e-01,  3.7852e-01,  4.9903e-01,\n",
       "         8.9378e-01,  6.8993e-01,  9.3989e-01,  5.0422e-01,  3.6258e-01,\n",
       "         4.7854e-01,  6.3045e-01,  1.7326e-01,  3.3090e-01,  7.1542e-01,\n",
       "         6.5540e-01,  1.5915e-01,  5.4528e-01,  8.0807e-01,  6.1569e-01,\n",
       "         3.0330e-01,  8.6115e-01,  2.6194e-01,  8.6749e-01,  6.3896e-01,\n",
       "         1.7453e-01,  5.6348e-01, -4.4214e-02,  1.9038e-01,  3.3955e-01,\n",
       "         8.3726e-01,  3.2981e-01,  7.4432e-01,  5.7701e-01,  7.9805e-01,\n",
       "         9.9119e-01,  3.8190e-01,  5.0645e-01,  4.7214e-01,  1.2239e-02,\n",
       "         5.7998e-01,  4.8128e-01,  5.0430e-01,  8.4508e-01,  2.2450e-01,\n",
       "         3.1679e-01,  3.3167e-01, -6.9523e-02,  8.5904e-01,  5.1363e-01,\n",
       "         2.1065e-01,  7.5620e-01,  9.0464e-01,  3.3424e-01,  6.6663e-01,\n",
       "         3.9853e-01,  5.8067e-02,  2.3723e-01,  2.0429e-01,  6.9998e-01,\n",
       "         5.1015e-01,  3.1709e-01,  7.5177e-01,  8.6267e-01,  9.1124e-01,\n",
       "         5.1205e-01,  4.3349e-01,  7.0787e-01,  4.8650e-01,  4.3343e-01,\n",
       "         4.7316e-01,  3.7285e-01,  7.5536e-01,  3.3034e-01,  4.5661e-01,\n",
       "         5.5728e-01, -2.6230e-03,  1.5921e-01,  4.4160e-01,  1.8496e-01,\n",
       "         9.6644e-01,  4.1698e-01, -2.2406e-02,  6.9282e-01,  1.6194e-01,\n",
       "         4.7442e-01,  1.5699e-01,  8.4781e-01,  8.3346e-01,  2.9210e-01,\n",
       "         8.9248e-01,  2.7672e-01,  6.1833e-01,  3.0681e-01,  4.5210e-01,\n",
       "         8.0887e-01,  1.3718e-02,  4.9494e-01,  5.6671e-02,  6.5448e-01,\n",
       "         2.2687e-01,  6.2937e-01,  1.2109e-02,  4.4906e-01,  6.2389e-01,\n",
       "         7.2474e-01,  3.2339e-01,  9.4838e-01,  9.3825e-01,  3.7934e-01,\n",
       "         2.0882e-01,  4.7993e-01,  3.7363e-01,  8.8403e-01,  6.0238e-01,\n",
       "         3.9239e-01,  7.7844e-01,  3.0372e-01,  6.9419e-01,  6.2907e-01,\n",
       "         6.5916e-01,  2.0684e-03,  9.8393e-01,  2.4819e-02,  8.0389e-01,\n",
       "         1.2423e-01,  9.3252e-01,  7.7169e-01,  7.5106e-01,  4.1836e-01,\n",
       "         5.9929e-01,  7.9056e-01,  6.4822e-01,  8.1627e-01,  5.7985e-01,\n",
       "         8.2892e-01,  1.2514e-01,  6.8621e-01,  4.9626e-01,  2.6222e-01,\n",
       "         6.1339e-02,  8.3823e-01,  2.0765e-01,  3.9773e-02,  8.3420e-01,\n",
       "        -1.9584e-02,  6.1955e-01,  5.1930e-01,  9.1799e-01,  5.1005e-01,\n",
       "         4.0230e-01,  4.4630e-01,  6.3032e-01,  8.8354e-01,  2.3681e-01,\n",
       "         7.9566e-02,  6.2932e-01,  7.7628e-01,  6.6936e-01,  2.3731e-01,\n",
       "         7.9165e-01,  8.9622e-01,  6.4631e-01,  7.3950e-01,  9.3022e-01,\n",
       "         7.8885e-02,  6.5777e-01,  4.8985e-01,  8.2458e-01,  4.1703e-02,\n",
       "         7.9570e-01,  3.4314e-01,  6.6211e-01,  2.8328e-01,  9.1240e-01,\n",
       "         6.9090e-02,  5.1997e-01,  5.3720e-01,  4.8709e-01,  2.8120e-01,\n",
       "         5.8430e-01,  9.8418e-01,  4.2084e-01,  2.6356e-01,  7.6889e-01,\n",
       "         1.4074e-01,  2.3032e-01,  4.7459e-01,  6.5776e-01,  7.7142e-02,\n",
       "         7.5034e-01,  3.0725e-01,  2.3748e-01,  8.8264e-02,  3.6060e-01,\n",
       "         4.9345e-01, -1.1981e-02,  9.0923e-02,  7.4268e-02,  1.2613e-01,\n",
       "         7.9770e-01,  5.6771e-02,  1.2446e-02,  1.6704e-01,  7.6514e-01,\n",
       "         2.6643e-01,  7.2174e-01,  3.4195e-01,  9.3344e-01,  2.8599e-01,\n",
       "         5.9008e-02,  7.5963e-02,  3.7600e-01, -3.2920e-02,  2.9831e-01,\n",
       "         2.2698e-01,  8.5799e-01,  7.6158e-01,  2.3874e-01,  9.9784e-02,\n",
       "         6.3692e-01,  2.8184e-01,  8.0511e-01,  2.9002e-01,  5.2615e-01,\n",
       "         4.1555e-01,  9.9634e-01,  1.9205e-01,  4.8696e-01,  3.1915e-01,\n",
       "         7.6577e-01,  5.1722e-01,  7.9020e-01,  8.3026e-01,  2.5729e-01,\n",
       "         5.2943e-02,  9.1371e-01,  7.2613e-01,  3.1891e-01,  5.9012e-01,\n",
       "         6.6136e-01,  5.0108e-01,  6.7899e-01,  7.0791e-01,  6.1379e-01,\n",
       "         6.2659e-01, -1.2937e-02,  5.4570e-01,  8.3496e-01,  4.7670e-01,\n",
       "        -4.9850e-03,  1.1749e-01,  1.1249e-01,  4.8133e-02,  4.8192e-01,\n",
       "         5.7540e-01,  1.2401e-02,  7.9084e-01,  9.3258e-01,  4.3330e-01,\n",
       "         5.1461e-01,  9.5126e-01,  8.4696e-01,  5.6533e-01,  8.1590e-01,\n",
       "         6.8114e-01,  5.1744e-01,  5.4244e-01,  4.0842e-01,  5.0359e-01,\n",
       "         5.4059e-01,  2.1316e-01,  8.9628e-01,  4.1712e-01,  6.4721e-01,\n",
       "         3.7769e-01,  6.8294e-01,  1.4974e-01,  2.0258e-02, -1.1687e-02,\n",
       "         8.6654e-01,  3.8325e-01,  8.1324e-01,  3.7083e-01,  5.0638e-01,\n",
       "         2.6121e-01,  4.0873e-01,  3.8048e-01,  3.9517e-01,  9.4950e-01,\n",
       "         1.1563e-02,  1.5699e-01,  2.6331e-01,  2.5872e-01,  2.4684e-02,\n",
       "         7.1652e-01,  6.5974e-01,  3.1440e-01,  9.1532e-01,  9.6967e-01,\n",
       "         2.9178e-01,  1.0709e-01,  4.7895e-01,  1.6343e-01,  3.8663e-01,\n",
       "         7.5559e-01,  4.1580e-01,  1.5952e-01,  7.6215e-01,  2.9729e-01,\n",
       "         7.1525e-01,  7.3711e-01,  6.6799e-01,  2.7423e-01,  7.6498e-01,\n",
       "         9.3294e-01,  9.0054e-01,  2.7017e-01,  8.1488e-01,  6.2649e-01,\n",
       "         9.1915e-01,  2.2990e-01,  6.1825e-01,  7.8865e-01,  1.6816e-01,\n",
       "         1.4113e-01,  5.0684e-01,  8.4213e-01,  2.2256e-01,  7.3353e-01,\n",
       "         7.7175e-01,  4.4220e-01,  7.4366e-01,  1.1891e-01,  5.2238e-01,\n",
       "         9.0750e-02,  3.9348e-01,  7.6145e-01,  3.5341e-01,  4.3185e-01,\n",
       "        -4.0146e-02,  2.9414e-01,  3.5096e-01,  8.7701e-01,  1.5836e-01,\n",
       "         6.1831e-01,  9.5821e-01,  8.7376e-01,  2.4780e-01,  5.9208e-01,\n",
       "         5.2417e-01,  5.8641e-01,  6.9161e-01,  5.5261e-01,  4.6110e-01,\n",
       "         3.6184e-01,  6.4718e-01,  9.1764e-01,  9.6062e-01,  5.8288e-01,\n",
       "         4.2736e-01,  8.5796e-02,  5.9130e-01,  6.3500e-01,  3.7568e-01,\n",
       "         1.1037e-01,  4.5242e-01,  1.2718e-02,  1.0150e-01,  6.6290e-01,\n",
       "         8.9615e-01,  6.8734e-01,  9.0501e-01,  7.0069e-03,  6.0965e-01,\n",
       "         3.4615e-01,  1.1512e-01,  1.7289e-02,  2.0065e-01,  6.7178e-02,\n",
       "         6.9345e-01,  3.4873e-01,  6.5916e-01,  8.5657e-01,  7.7173e-01,\n",
       "         8.0043e-01,  3.0103e-01,  7.6027e-01,  4.8903e-01,  8.7933e-01,\n",
       "         8.7709e-02,  8.6831e-01,  7.5695e-01,  6.5676e-01,  2.9053e-01,\n",
       "         8.3409e-02,  3.2572e-01,  2.5676e-01,  1.5189e-01,  1.4256e-01,\n",
       "         7.8101e-01,  1.4264e-01,  4.1815e-01,  2.4339e-01,  4.5633e-01,\n",
       "         3.6170e-01,  2.6499e-03,  4.4979e-01,  9.1186e-01,  2.6794e-02,\n",
       "         2.6793e-01,  7.6477e-01,  3.6342e-01,  6.9017e-01], device='cuda:0',\n",
       "       requires_grad=True)"
      ]
     },
     "execution_count": 21,
     "metadata": {},
     "output_type": "execute_result"
    }
   ],
   "source": [
    "param[1]"
   ]
  },
  {
   "cell_type": "code",
   "execution_count": 33,
   "id": "53bfe434",
   "metadata": {},
   "outputs": [
    {
     "data": {
      "text/plain": [
       "1210404"
      ]
     },
     "execution_count": 33,
     "metadata": {},
     "output_type": "execute_result"
    }
   ],
   "source": [
    "1210404"
   ]
  },
  {
   "cell_type": "code",
   "execution_count": 34,
   "id": "afd69b9f",
   "metadata": {},
   "outputs": [
    {
     "data": {
      "text/plain": [
       "1178292"
      ]
     },
     "execution_count": 34,
     "metadata": {},
     "output_type": "execute_result"
    }
   ],
   "source": [
    "sum(p.numel() for p in flow.parameters() if p.requires_grad)"
   ]
  },
  {
   "cell_type": "code",
   "execution_count": null,
   "id": "0c45393d",
   "metadata": {},
   "outputs": [],
   "source": [
    "# pytorch\n",
    "1178292\n",
    "\n",
    "# tensorflow\n",
    "1210404"
   ]
  },
  {
   "cell_type": "code",
   "execution_count": 35,
   "id": "919a07cd",
   "metadata": {},
   "outputs": [
    {
     "data": {
      "text/plain": [
       "32112"
      ]
     },
     "execution_count": 35,
     "metadata": {},
     "output_type": "execute_result"
    }
   ],
   "source": [
    "1210404 - 1178292"
   ]
  },
  {
   "cell_type": "code",
   "execution_count": 56,
   "id": "ebc4a4a2",
   "metadata": {},
   "outputs": [
    {
     "data": {
      "text/plain": [
       "28224"
      ]
     },
     "execution_count": 56,
     "metadata": {},
     "output_type": "execute_result"
    }
   ],
   "source": [
    "1210404 - 1182180"
   ]
  },
  {
   "cell_type": "code",
   "execution_count": 57,
   "id": "89df9151",
   "metadata": {},
   "outputs": [
    {
     "data": {
      "text/plain": [
       "26176"
      ]
     },
     "execution_count": 57,
     "metadata": {},
     "output_type": "execute_result"
    }
   ],
   "source": [
    "1210404 - 1184228"
   ]
  },
  {
   "cell_type": "code",
   "execution_count": 37,
   "id": "b5a7e1c5",
   "metadata": {},
   "outputs": [
    {
     "data": {
      "text/plain": [
       "Parameter containing:\n",
       "tensor([1.4573, 1.4812, 1.6723, 0.8203, 0.8528, 0.8621, 0.8217, 0.8634, 1.3903,\n",
       "        0.8866, 2.0291, 1.2595, 1.5606, 0.9010, 1.4004, 0.7887],\n",
       "       device='cuda:0', requires_grad=True)"
      ]
     },
     "execution_count": 37,
     "metadata": {},
     "output_type": "execute_result"
    }
   ],
   "source": [
    "p"
   ]
  },
  {
   "cell_type": "code",
   "execution_count": 43,
   "id": "35dc2c6a",
   "metadata": {},
   "outputs": [
    {
     "data": {
      "text/plain": [
       "'_transform._transforms.0._transforms.1._transforms.0.log_scale'"
      ]
     },
     "execution_count": 43,
     "metadata": {},
     "output_type": "execute_result"
    }
   ],
   "source": [
    "list(flow.named_parameters())[0][0]"
   ]
  },
  {
   "cell_type": "code",
   "execution_count": 51,
   "id": "7e1d6f69",
   "metadata": {},
   "outputs": [
    {
     "data": {
      "text/plain": [
       "16"
      ]
     },
     "execution_count": 51,
     "metadata": {},
     "output_type": "execute_result"
    }
   ],
   "source": [
    "p[1].shape.numel()"
   ]
  },
  {
   "cell_type": "code",
   "execution_count": 55,
   "id": "5f3c4623",
   "metadata": {
    "scrolled": false
   },
   "outputs": [
    {
     "name": "stdout",
     "output_type": "stream",
     "text": [
      "_transform._transforms.0._transforms.1._transforms.0.log_scale : torch.Size([4])  4\n",
      "tot: 4\n",
      "_transform._transforms.0._transforms.1._transforms.0.shift : torch.Size([4])  4\n",
      "tot: 8\n",
      "_transform._transforms.0._transforms.1._transforms.1.bias : torch.Size([4])  4\n",
      "tot: 12\n",
      "_transform._transforms.0._transforms.1._transforms.1.lower_entries : torch.Size([6])  6\n",
      "tot: 18\n",
      "_transform._transforms.0._transforms.1._transforms.1.upper_entries : torch.Size([6])  6\n",
      "tot: 24\n",
      "_transform._transforms.0._transforms.1._transforms.1.unconstrained_upper_diag : torch.Size([4])  4\n",
      "tot: 28\n",
      "_transform._transforms.0._transforms.1._transforms.2.transform_net.net.0.weight : torch.Size([64, 2, 3, 3])  1152\n",
      "tot: 1180\n",
      "_transform._transforms.0._transforms.1._transforms.2.transform_net.net.0.bias : torch.Size([64])  64\n",
      "tot: 1244\n",
      "_transform._transforms.0._transforms.1._transforms.2.transform_net.net.3.weight : torch.Size([64, 64, 1, 1])  4096\n",
      "tot: 5340\n",
      "_transform._transforms.0._transforms.1._transforms.2.transform_net.net.3.bias : torch.Size([64])  64\n",
      "tot: 5404\n",
      "_transform._transforms.0._transforms.1._transforms.2.transform_net.net.6.weight : torch.Size([46, 64, 3, 3])  26496\n",
      "tot: 31900\n",
      "_transform._transforms.0._transforms.1._transforms.2.transform_net.net.6.bias : torch.Size([46])  46\n",
      "tot: 31946\n",
      "_transform._transforms.0._transforms.2._transforms.0.log_scale : torch.Size([4])  4\n",
      "tot: 31950\n",
      "_transform._transforms.0._transforms.2._transforms.0.shift : torch.Size([4])  4\n",
      "tot: 31954\n",
      "_transform._transforms.0._transforms.2._transforms.1.bias : torch.Size([4])  4\n",
      "tot: 31958\n",
      "_transform._transforms.0._transforms.2._transforms.1.lower_entries : torch.Size([6])  6\n",
      "tot: 31964\n",
      "_transform._transforms.0._transforms.2._transforms.1.upper_entries : torch.Size([6])  6\n",
      "tot: 31970\n",
      "_transform._transforms.0._transforms.2._transforms.1.unconstrained_upper_diag : torch.Size([4])  4\n",
      "tot: 31974\n",
      "_transform._transforms.0._transforms.2._transforms.2.transform_net.net.0.weight : torch.Size([64, 2, 3, 3])  1152\n",
      "tot: 33126\n",
      "_transform._transforms.0._transforms.2._transforms.2.transform_net.net.0.bias : torch.Size([64])  64\n",
      "tot: 33190\n",
      "_transform._transforms.0._transforms.2._transforms.2.transform_net.net.3.weight : torch.Size([64, 64, 1, 1])  4096\n",
      "tot: 37286\n",
      "_transform._transforms.0._transforms.2._transforms.2.transform_net.net.3.bias : torch.Size([64])  64\n",
      "tot: 37350\n",
      "_transform._transforms.0._transforms.2._transforms.2.transform_net.net.6.weight : torch.Size([46, 64, 3, 3])  26496\n",
      "tot: 63846\n",
      "_transform._transforms.0._transforms.2._transforms.2.transform_net.net.6.bias : torch.Size([46])  46\n",
      "tot: 63892\n",
      "_transform._transforms.0._transforms.3._transforms.0.log_scale : torch.Size([4])  4\n",
      "tot: 63896\n",
      "_transform._transforms.0._transforms.3._transforms.0.shift : torch.Size([4])  4\n",
      "tot: 63900\n",
      "_transform._transforms.0._transforms.3._transforms.1.bias : torch.Size([4])  4\n",
      "tot: 63904\n",
      "_transform._transforms.0._transforms.3._transforms.1.lower_entries : torch.Size([6])  6\n",
      "tot: 63910\n",
      "_transform._transforms.0._transforms.3._transforms.1.upper_entries : torch.Size([6])  6\n",
      "tot: 63916\n",
      "_transform._transforms.0._transforms.3._transforms.1.unconstrained_upper_diag : torch.Size([4])  4\n",
      "tot: 63920\n",
      "_transform._transforms.0._transforms.3._transforms.2.transform_net.net.0.weight : torch.Size([64, 2, 3, 3])  1152\n",
      "tot: 65072\n",
      "_transform._transforms.0._transforms.3._transforms.2.transform_net.net.0.bias : torch.Size([64])  64\n",
      "tot: 65136\n",
      "_transform._transforms.0._transforms.3._transforms.2.transform_net.net.3.weight : torch.Size([64, 64, 1, 1])  4096\n",
      "tot: 69232\n",
      "_transform._transforms.0._transforms.3._transforms.2.transform_net.net.3.bias : torch.Size([64])  64\n",
      "tot: 69296\n",
      "_transform._transforms.0._transforms.3._transforms.2.transform_net.net.6.weight : torch.Size([46, 64, 3, 3])  26496\n",
      "tot: 95792\n",
      "_transform._transforms.0._transforms.3._transforms.2.transform_net.net.6.bias : torch.Size([46])  46\n",
      "tot: 95838\n",
      "_transform._transforms.0._transforms.4._transforms.0.log_scale : torch.Size([4])  4\n",
      "tot: 95842\n",
      "_transform._transforms.0._transforms.4._transforms.0.shift : torch.Size([4])  4\n",
      "tot: 95846\n",
      "_transform._transforms.0._transforms.4._transforms.1.bias : torch.Size([4])  4\n",
      "tot: 95850\n",
      "_transform._transforms.0._transforms.4._transforms.1.lower_entries : torch.Size([6])  6\n",
      "tot: 95856\n",
      "_transform._transforms.0._transforms.4._transforms.1.upper_entries : torch.Size([6])  6\n",
      "tot: 95862\n",
      "_transform._transforms.0._transforms.4._transforms.1.unconstrained_upper_diag : torch.Size([4])  4\n",
      "tot: 95866\n",
      "_transform._transforms.0._transforms.4._transforms.2.transform_net.net.0.weight : torch.Size([64, 2, 3, 3])  1152\n",
      "tot: 97018\n",
      "_transform._transforms.0._transforms.4._transforms.2.transform_net.net.0.bias : torch.Size([64])  64\n",
      "tot: 97082\n",
      "_transform._transforms.0._transforms.4._transforms.2.transform_net.net.3.weight : torch.Size([64, 64, 1, 1])  4096\n",
      "tot: 101178\n",
      "_transform._transforms.0._transforms.4._transforms.2.transform_net.net.3.bias : torch.Size([64])  64\n",
      "tot: 101242\n",
      "_transform._transforms.0._transforms.4._transforms.2.transform_net.net.6.weight : torch.Size([46, 64, 3, 3])  26496\n",
      "tot: 127738\n",
      "_transform._transforms.0._transforms.4._transforms.2.transform_net.net.6.bias : torch.Size([46])  46\n",
      "tot: 127784\n",
      "_transform._transforms.0._transforms.5._transforms.0.log_scale : torch.Size([4])  4\n",
      "tot: 127788\n",
      "_transform._transforms.0._transforms.5._transforms.0.shift : torch.Size([4])  4\n",
      "tot: 127792\n",
      "_transform._transforms.0._transforms.5._transforms.1.bias : torch.Size([4])  4\n",
      "tot: 127796\n",
      "_transform._transforms.0._transforms.5._transforms.1.lower_entries : torch.Size([6])  6\n",
      "tot: 127802\n",
      "_transform._transforms.0._transforms.5._transforms.1.upper_entries : torch.Size([6])  6\n",
      "tot: 127808\n",
      "_transform._transforms.0._transforms.5._transforms.1.unconstrained_upper_diag : torch.Size([4])  4\n",
      "tot: 127812\n",
      "_transform._transforms.0._transforms.5._transforms.2.transform_net.net.0.weight : torch.Size([64, 2, 3, 3])  1152\n",
      "tot: 128964\n",
      "_transform._transforms.0._transforms.5._transforms.2.transform_net.net.0.bias : torch.Size([64])  64\n",
      "tot: 129028\n",
      "_transform._transforms.0._transforms.5._transforms.2.transform_net.net.3.weight : torch.Size([64, 64, 1, 1])  4096\n",
      "tot: 133124\n",
      "_transform._transforms.0._transforms.5._transforms.2.transform_net.net.3.bias : torch.Size([64])  64\n",
      "tot: 133188\n",
      "_transform._transforms.0._transforms.5._transforms.2.transform_net.net.6.weight : torch.Size([46, 64, 3, 3])  26496\n",
      "tot: 159684\n",
      "_transform._transforms.0._transforms.5._transforms.2.transform_net.net.6.bias : torch.Size([46])  46\n",
      "tot: 159730\n",
      "_transform._transforms.0._transforms.6._transforms.0.log_scale : torch.Size([4])  4\n",
      "tot: 159734\n",
      "_transform._transforms.0._transforms.6._transforms.0.shift : torch.Size([4])  4\n",
      "tot: 159738\n",
      "_transform._transforms.0._transforms.6._transforms.1.bias : torch.Size([4])  4\n",
      "tot: 159742\n",
      "_transform._transforms.0._transforms.6._transforms.1.lower_entries : torch.Size([6])  6\n",
      "tot: 159748\n",
      "_transform._transforms.0._transforms.6._transforms.1.upper_entries : torch.Size([6])  6\n",
      "tot: 159754\n",
      "_transform._transforms.0._transforms.6._transforms.1.unconstrained_upper_diag : torch.Size([4])  4\n",
      "tot: 159758\n",
      "_transform._transforms.0._transforms.6._transforms.2.transform_net.net.0.weight : torch.Size([64, 2, 3, 3])  1152\n",
      "tot: 160910\n",
      "_transform._transforms.0._transforms.6._transforms.2.transform_net.net.0.bias : torch.Size([64])  64\n",
      "tot: 160974\n",
      "_transform._transforms.0._transforms.6._transforms.2.transform_net.net.3.weight : torch.Size([64, 64, 1, 1])  4096\n",
      "tot: 165070\n",
      "_transform._transforms.0._transforms.6._transforms.2.transform_net.net.3.bias : torch.Size([64])  64\n",
      "tot: 165134\n",
      "_transform._transforms.0._transforms.6._transforms.2.transform_net.net.6.weight : torch.Size([46, 64, 3, 3])  26496\n",
      "tot: 191630\n",
      "_transform._transforms.0._transforms.6._transforms.2.transform_net.net.6.bias : torch.Size([46])  46\n",
      "tot: 191676\n",
      "_transform._transforms.0._transforms.7._transforms.0.log_scale : torch.Size([4])  4\n",
      "tot: 191680\n",
      "_transform._transforms.0._transforms.7._transforms.0.shift : torch.Size([4])  4\n",
      "tot: 191684\n",
      "_transform._transforms.0._transforms.7._transforms.1.bias : torch.Size([4])  4\n",
      "tot: 191688\n",
      "_transform._transforms.0._transforms.7._transforms.1.lower_entries : torch.Size([6])  6\n",
      "tot: 191694\n",
      "_transform._transforms.0._transforms.7._transforms.1.upper_entries : torch.Size([6])  6\n",
      "tot: 191700\n",
      "_transform._transforms.0._transforms.7._transforms.1.unconstrained_upper_diag : torch.Size([4])  4\n",
      "tot: 191704\n",
      "_transform._transforms.0._transforms.7._transforms.2.transform_net.net.0.weight : torch.Size([64, 2, 3, 3])  1152\n",
      "tot: 192856\n",
      "_transform._transforms.0._transforms.7._transforms.2.transform_net.net.0.bias : torch.Size([64])  64\n",
      "tot: 192920\n",
      "_transform._transforms.0._transforms.7._transforms.2.transform_net.net.3.weight : torch.Size([64, 64, 1, 1])  4096\n",
      "tot: 197016\n",
      "_transform._transforms.0._transforms.7._transforms.2.transform_net.net.3.bias : torch.Size([64])  64\n",
      "tot: 197080\n",
      "_transform._transforms.0._transforms.7._transforms.2.transform_net.net.6.weight : torch.Size([46, 64, 3, 3])  26496\n",
      "tot: 223576\n",
      "_transform._transforms.0._transforms.7._transforms.2.transform_net.net.6.bias : torch.Size([46])  46\n",
      "tot: 223622\n",
      "_transform._transforms.0._transforms.8._transforms.0.log_scale : torch.Size([4])  4\n",
      "tot: 223626\n",
      "_transform._transforms.0._transforms.8._transforms.0.shift : torch.Size([4])  4\n",
      "tot: 223630\n",
      "_transform._transforms.0._transforms.8._transforms.1.bias : torch.Size([4])  4\n",
      "tot: 223634\n",
      "_transform._transforms.0._transforms.8._transforms.1.lower_entries : torch.Size([6])  6\n",
      "tot: 223640\n",
      "_transform._transforms.0._transforms.8._transforms.1.upper_entries : torch.Size([6])  6\n",
      "tot: 223646\n",
      "_transform._transforms.0._transforms.8._transforms.1.unconstrained_upper_diag : torch.Size([4])  4\n",
      "tot: 223650\n",
      "_transform._transforms.0._transforms.8._transforms.2.transform_net.net.0.weight : torch.Size([64, 2, 3, 3])  1152\n",
      "tot: 224802\n",
      "_transform._transforms.0._transforms.8._transforms.2.transform_net.net.0.bias : torch.Size([64])  64\n",
      "tot: 224866\n",
      "_transform._transforms.0._transforms.8._transforms.2.transform_net.net.3.weight : torch.Size([64, 64, 1, 1])  4096\n",
      "tot: 228962\n",
      "_transform._transforms.0._transforms.8._transforms.2.transform_net.net.3.bias : torch.Size([64])  64\n",
      "tot: 229026\n",
      "_transform._transforms.0._transforms.8._transforms.2.transform_net.net.6.weight : torch.Size([46, 64, 3, 3])  26496\n",
      "tot: 255522\n",
      "_transform._transforms.0._transforms.8._transforms.2.transform_net.net.6.bias : torch.Size([46])  46\n",
      "tot: 255568\n",
      "_transform._transforms.0._transforms.9.bias : torch.Size([4])  4\n",
      "tot: 255572\n",
      "_transform._transforms.0._transforms.9.lower_entries : torch.Size([6])  6\n",
      "tot: 255578\n",
      "_transform._transforms.0._transforms.9.upper_entries : torch.Size([6])  6\n",
      "tot: 255584\n",
      "_transform._transforms.0._transforms.9.unconstrained_upper_diag : torch.Size([4])  4\n",
      "tot: 255588\n",
      "_transform._transforms.1._transforms.1._transforms.0.log_scale : torch.Size([16])  16\n",
      "tot: 255604\n",
      "_transform._transforms.1._transforms.1._transforms.0.shift : torch.Size([16])  16\n",
      "tot: 255620\n",
      "_transform._transforms.1._transforms.1._transforms.1.bias : torch.Size([16])  16\n",
      "tot: 255636\n",
      "_transform._transforms.1._transforms.1._transforms.1.lower_entries : torch.Size([120])  120\n",
      "tot: 255756\n",
      "_transform._transforms.1._transforms.1._transforms.1.upper_entries : torch.Size([120])  120\n",
      "tot: 255876\n",
      "_transform._transforms.1._transforms.1._transforms.1.unconstrained_upper_diag : torch.Size([16])  16\n",
      "tot: 255892\n",
      "_transform._transforms.1._transforms.1._transforms.2.transform_net.net.0.weight : torch.Size([64, 8, 3, 3])  4608\n",
      "tot: 260500\n",
      "_transform._transforms.1._transforms.1._transforms.2.transform_net.net.0.bias : torch.Size([64])  64\n",
      "tot: 260564\n",
      "_transform._transforms.1._transforms.1._transforms.2.transform_net.net.3.weight : torch.Size([64, 64, 1, 1])  4096\n",
      "tot: 264660\n",
      "_transform._transforms.1._transforms.1._transforms.2.transform_net.net.3.bias : torch.Size([64])  64\n",
      "tot: 264724\n",
      "_transform._transforms.1._transforms.1._transforms.2.transform_net.net.6.weight : torch.Size([184, 64, 3, 3])  105984\n",
      "tot: 370708\n",
      "_transform._transforms.1._transforms.1._transforms.2.transform_net.net.6.bias : torch.Size([184])  184\n",
      "tot: 370892\n",
      "_transform._transforms.1._transforms.2._transforms.0.log_scale : torch.Size([16])  16\n",
      "tot: 370908\n",
      "_transform._transforms.1._transforms.2._transforms.0.shift : torch.Size([16])  16\n",
      "tot: 370924\n",
      "_transform._transforms.1._transforms.2._transforms.1.bias : torch.Size([16])  16\n",
      "tot: 370940\n",
      "_transform._transforms.1._transforms.2._transforms.1.lower_entries : torch.Size([120])  120\n",
      "tot: 371060\n",
      "_transform._transforms.1._transforms.2._transforms.1.upper_entries : torch.Size([120])  120\n",
      "tot: 371180\n",
      "_transform._transforms.1._transforms.2._transforms.1.unconstrained_upper_diag : torch.Size([16])  16\n",
      "tot: 371196\n",
      "_transform._transforms.1._transforms.2._transforms.2.transform_net.net.0.weight : torch.Size([64, 8, 3, 3])  4608\n",
      "tot: 375804\n",
      "_transform._transforms.1._transforms.2._transforms.2.transform_net.net.0.bias : torch.Size([64])  64\n",
      "tot: 375868\n",
      "_transform._transforms.1._transforms.2._transforms.2.transform_net.net.3.weight : torch.Size([64, 64, 1, 1])  4096\n",
      "tot: 379964\n",
      "_transform._transforms.1._transforms.2._transforms.2.transform_net.net.3.bias : torch.Size([64])  64\n",
      "tot: 380028\n",
      "_transform._transforms.1._transforms.2._transforms.2.transform_net.net.6.weight : torch.Size([184, 64, 3, 3])  105984\n",
      "tot: 486012\n",
      "_transform._transforms.1._transforms.2._transforms.2.transform_net.net.6.bias : torch.Size([184])  184\n",
      "tot: 486196\n",
      "_transform._transforms.1._transforms.3._transforms.0.log_scale : torch.Size([16])  16\n",
      "tot: 486212\n",
      "_transform._transforms.1._transforms.3._transforms.0.shift : torch.Size([16])  16\n",
      "tot: 486228\n",
      "_transform._transforms.1._transforms.3._transforms.1.bias : torch.Size([16])  16\n",
      "tot: 486244\n",
      "_transform._transforms.1._transforms.3._transforms.1.lower_entries : torch.Size([120])  120\n",
      "tot: 486364\n",
      "_transform._transforms.1._transforms.3._transforms.1.upper_entries : torch.Size([120])  120\n",
      "tot: 486484\n",
      "_transform._transforms.1._transforms.3._transforms.1.unconstrained_upper_diag : torch.Size([16])  16\n",
      "tot: 486500\n",
      "_transform._transforms.1._transforms.3._transforms.2.transform_net.net.0.weight : torch.Size([64, 8, 3, 3])  4608\n",
      "tot: 491108\n",
      "_transform._transforms.1._transforms.3._transforms.2.transform_net.net.0.bias : torch.Size([64])  64\n",
      "tot: 491172\n",
      "_transform._transforms.1._transforms.3._transforms.2.transform_net.net.3.weight : torch.Size([64, 64, 1, 1])  4096\n",
      "tot: 495268\n",
      "_transform._transforms.1._transforms.3._transforms.2.transform_net.net.3.bias : torch.Size([64])  64\n",
      "tot: 495332\n",
      "_transform._transforms.1._transforms.3._transforms.2.transform_net.net.6.weight : torch.Size([184, 64, 3, 3])  105984\n",
      "tot: 601316\n",
      "_transform._transforms.1._transforms.3._transforms.2.transform_net.net.6.bias : torch.Size([184])  184\n",
      "tot: 601500\n",
      "_transform._transforms.1._transforms.4._transforms.0.log_scale : torch.Size([16])  16\n",
      "tot: 601516\n",
      "_transform._transforms.1._transforms.4._transforms.0.shift : torch.Size([16])  16\n",
      "tot: 601532\n",
      "_transform._transforms.1._transforms.4._transforms.1.bias : torch.Size([16])  16\n",
      "tot: 601548\n",
      "_transform._transforms.1._transforms.4._transforms.1.lower_entries : torch.Size([120])  120\n",
      "tot: 601668\n",
      "_transform._transforms.1._transforms.4._transforms.1.upper_entries : torch.Size([120])  120\n",
      "tot: 601788\n",
      "_transform._transforms.1._transforms.4._transforms.1.unconstrained_upper_diag : torch.Size([16])  16\n",
      "tot: 601804\n",
      "_transform._transforms.1._transforms.4._transforms.2.transform_net.net.0.weight : torch.Size([64, 8, 3, 3])  4608\n",
      "tot: 606412\n",
      "_transform._transforms.1._transforms.4._transforms.2.transform_net.net.0.bias : torch.Size([64])  64\n",
      "tot: 606476\n",
      "_transform._transforms.1._transforms.4._transforms.2.transform_net.net.3.weight : torch.Size([64, 64, 1, 1])  4096\n",
      "tot: 610572\n",
      "_transform._transforms.1._transforms.4._transforms.2.transform_net.net.3.bias : torch.Size([64])  64\n",
      "tot: 610636\n",
      "_transform._transforms.1._transforms.4._transforms.2.transform_net.net.6.weight : torch.Size([184, 64, 3, 3])  105984\n",
      "tot: 716620\n",
      "_transform._transforms.1._transforms.4._transforms.2.transform_net.net.6.bias : torch.Size([184])  184\n",
      "tot: 716804\n",
      "_transform._transforms.1._transforms.5._transforms.0.log_scale : torch.Size([16])  16\n",
      "tot: 716820\n",
      "_transform._transforms.1._transforms.5._transforms.0.shift : torch.Size([16])  16\n",
      "tot: 716836\n",
      "_transform._transforms.1._transforms.5._transforms.1.bias : torch.Size([16])  16\n",
      "tot: 716852\n",
      "_transform._transforms.1._transforms.5._transforms.1.lower_entries : torch.Size([120])  120\n",
      "tot: 716972\n",
      "_transform._transforms.1._transforms.5._transforms.1.upper_entries : torch.Size([120])  120\n",
      "tot: 717092\n",
      "_transform._transforms.1._transforms.5._transforms.1.unconstrained_upper_diag : torch.Size([16])  16\n",
      "tot: 717108\n",
      "_transform._transforms.1._transforms.5._transforms.2.transform_net.net.0.weight : torch.Size([64, 8, 3, 3])  4608\n",
      "tot: 721716\n",
      "_transform._transforms.1._transforms.5._transforms.2.transform_net.net.0.bias : torch.Size([64])  64\n",
      "tot: 721780\n",
      "_transform._transforms.1._transforms.5._transforms.2.transform_net.net.3.weight : torch.Size([64, 64, 1, 1])  4096\n",
      "tot: 725876\n",
      "_transform._transforms.1._transforms.5._transforms.2.transform_net.net.3.bias : torch.Size([64])  64\n",
      "tot: 725940\n",
      "_transform._transforms.1._transforms.5._transforms.2.transform_net.net.6.weight : torch.Size([184, 64, 3, 3])  105984\n",
      "tot: 831924\n",
      "_transform._transforms.1._transforms.5._transforms.2.transform_net.net.6.bias : torch.Size([184])  184\n",
      "tot: 832108\n",
      "_transform._transforms.1._transforms.6._transforms.0.log_scale : torch.Size([16])  16\n",
      "tot: 832124\n",
      "_transform._transforms.1._transforms.6._transforms.0.shift : torch.Size([16])  16\n",
      "tot: 832140\n",
      "_transform._transforms.1._transforms.6._transforms.1.bias : torch.Size([16])  16\n",
      "tot: 832156\n",
      "_transform._transforms.1._transforms.6._transforms.1.lower_entries : torch.Size([120])  120\n",
      "tot: 832276\n",
      "_transform._transforms.1._transforms.6._transforms.1.upper_entries : torch.Size([120])  120\n",
      "tot: 832396\n",
      "_transform._transforms.1._transforms.6._transforms.1.unconstrained_upper_diag : torch.Size([16])  16\n",
      "tot: 832412\n",
      "_transform._transforms.1._transforms.6._transforms.2.transform_net.net.0.weight : torch.Size([64, 8, 3, 3])  4608\n",
      "tot: 837020\n",
      "_transform._transforms.1._transforms.6._transforms.2.transform_net.net.0.bias : torch.Size([64])  64\n",
      "tot: 837084\n",
      "_transform._transforms.1._transforms.6._transforms.2.transform_net.net.3.weight : torch.Size([64, 64, 1, 1])  4096\n",
      "tot: 841180\n",
      "_transform._transforms.1._transforms.6._transforms.2.transform_net.net.3.bias : torch.Size([64])  64\n",
      "tot: 841244\n",
      "_transform._transforms.1._transforms.6._transforms.2.transform_net.net.6.weight : torch.Size([184, 64, 3, 3])  105984\n",
      "tot: 947228\n",
      "_transform._transforms.1._transforms.6._transforms.2.transform_net.net.6.bias : torch.Size([184])  184\n",
      "tot: 947412\n",
      "_transform._transforms.1._transforms.7._transforms.0.log_scale : torch.Size([16])  16\n",
      "tot: 947428\n",
      "_transform._transforms.1._transforms.7._transforms.0.shift : torch.Size([16])  16\n",
      "tot: 947444\n",
      "_transform._transforms.1._transforms.7._transforms.1.bias : torch.Size([16])  16\n",
      "tot: 947460\n",
      "_transform._transforms.1._transforms.7._transforms.1.lower_entries : torch.Size([120])  120\n",
      "tot: 947580\n",
      "_transform._transforms.1._transforms.7._transforms.1.upper_entries : torch.Size([120])  120\n",
      "tot: 947700\n",
      "_transform._transforms.1._transforms.7._transforms.1.unconstrained_upper_diag : torch.Size([16])  16\n",
      "tot: 947716\n",
      "_transform._transforms.1._transforms.7._transforms.2.transform_net.net.0.weight : torch.Size([64, 8, 3, 3])  4608\n",
      "tot: 952324\n",
      "_transform._transforms.1._transforms.7._transforms.2.transform_net.net.0.bias : torch.Size([64])  64\n",
      "tot: 952388\n",
      "_transform._transforms.1._transforms.7._transforms.2.transform_net.net.3.weight : torch.Size([64, 64, 1, 1])  4096\n",
      "tot: 956484\n",
      "_transform._transforms.1._transforms.7._transforms.2.transform_net.net.3.bias : torch.Size([64])  64\n",
      "tot: 956548\n",
      "_transform._transforms.1._transforms.7._transforms.2.transform_net.net.6.weight : torch.Size([184, 64, 3, 3])  105984\n",
      "tot: 1062532\n",
      "_transform._transforms.1._transforms.7._transforms.2.transform_net.net.6.bias : torch.Size([184])  184\n",
      "tot: 1062716\n",
      "_transform._transforms.1._transforms.8._transforms.0.log_scale : torch.Size([16])  16\n",
      "tot: 1062732\n",
      "_transform._transforms.1._transforms.8._transforms.0.shift : torch.Size([16])  16\n",
      "tot: 1062748\n",
      "_transform._transforms.1._transforms.8._transforms.1.bias : torch.Size([16])  16\n",
      "tot: 1062764\n",
      "_transform._transforms.1._transforms.8._transforms.1.lower_entries : torch.Size([120])  120\n",
      "tot: 1062884\n",
      "_transform._transforms.1._transforms.8._transforms.1.upper_entries : torch.Size([120])  120\n",
      "tot: 1063004\n",
      "_transform._transforms.1._transforms.8._transforms.1.unconstrained_upper_diag : torch.Size([16])  16\n",
      "tot: 1063020\n",
      "_transform._transforms.1._transforms.8._transforms.2.transform_net.net.0.weight : torch.Size([64, 8, 3, 3])  4608\n",
      "tot: 1067628\n",
      "_transform._transforms.1._transforms.8._transforms.2.transform_net.net.0.bias : torch.Size([64])  64\n",
      "tot: 1067692\n",
      "_transform._transforms.1._transforms.8._transforms.2.transform_net.net.3.weight : torch.Size([64, 64, 1, 1])  4096\n",
      "tot: 1071788\n",
      "_transform._transforms.1._transforms.8._transforms.2.transform_net.net.3.bias : torch.Size([64])  64\n",
      "tot: 1071852\n",
      "_transform._transforms.1._transforms.8._transforms.2.transform_net.net.6.weight : torch.Size([184, 64, 3, 3])  105984\n",
      "tot: 1177836\n",
      "_transform._transforms.1._transforms.8._transforms.2.transform_net.net.6.bias : torch.Size([184])  184\n",
      "tot: 1178020\n",
      "_transform._transforms.1._transforms.9.bias : torch.Size([16])  16\n",
      "tot: 1178036\n",
      "_transform._transforms.1._transforms.9.lower_entries : torch.Size([120])  120\n",
      "tot: 1178156\n",
      "_transform._transforms.1._transforms.9.upper_entries : torch.Size([120])  120\n",
      "tot: 1178276\n",
      "_transform._transforms.1._transforms.9.unconstrained_upper_diag : torch.Size([16])  16\n",
      "tot: 1178292\n"
     ]
    }
   ],
   "source": [
    "tot = 0\n",
    "for p in flow.named_parameters():\n",
    "  if p[1].requires_grad:\n",
    "    print(p[0], ':', p[1].shape, '', p[1].numel())\n",
    "    tot += p[1].shape.numel()\n",
    "    print('tot: {}'.format(tot))"
   ]
  },
  {
   "cell_type": "markdown",
   "id": "32cf54a5",
   "metadata": {},
   "source": [
    "----"
   ]
  },
  {
   "cell_type": "markdown",
   "id": "630962cb",
   "metadata": {},
   "source": [
    "# Load data"
   ]
  },
  {
   "cell_type": "code",
   "execution_count": 12,
   "id": "1f89351d",
   "metadata": {},
   "outputs": [
    {
     "data": {
      "text/plain": [
       "'/atlas/u/kechoi/time-score-dre'"
      ]
     },
     "execution_count": 12,
     "metadata": {},
     "output_type": "execute_result"
    }
   ],
   "source": [
    "pwd"
   ]
  },
  {
   "cell_type": "code",
   "execution_count": 13,
   "id": "5f7248b0",
   "metadata": {},
   "outputs": [],
   "source": [
    "device = 'cuda'\n",
    "import copy\n",
    "from models.utils import get_score_fn, get_time_score_fn\n",
    "from losses import get_time_score_estimate"
   ]
  },
  {
   "cell_type": "code",
   "execution_count": 14,
   "id": "61748d12",
   "metadata": {},
   "outputs": [],
   "source": [
    "def logit_transform(image):\n",
    "  lambd = 1e-6\n",
    "  image = lambd + (1 - 2 * lambd) * image\n",
    "  return torch.log(image) - torch.log1p(-image)\n",
    "\n",
    "\n",
    "def get_data_scaler():\n",
    "    return lambda x: x * 2. - 1.\n",
    "\n",
    "\n",
    "def get_data_inverse_scaler():\n",
    "    return lambda x: (x + 1.) / 2."
   ]
  },
  {
   "cell_type": "code",
   "execution_count": 15,
   "id": "ed45b658",
   "metadata": {},
   "outputs": [],
   "source": [
    "scaler = get_data_scaler()\n",
    "inverse_scaler = get_data_inverse_scaler()"
   ]
  },
  {
   "cell_type": "code",
   "execution_count": 16,
   "id": "cb0d541b",
   "metadata": {},
   "outputs": [],
   "source": [
    "device = 'cuda:0'"
   ]
  },
  {
   "cell_type": "code",
   "execution_count": 17,
   "id": "6d025847",
   "metadata": {},
   "outputs": [
    {
     "name": "stdout",
     "output_type": "stream",
     "text": [
      "tensor(0.) tensor(1.)\n"
     ]
    }
   ],
   "source": [
    "# does this also happen on the training set??\n",
    "flow.eval()\n",
    "# eval_batch, _ = next(train_iter)\n",
    "eval_batch, _ = next(eval_iter)\n",
    "print(eval_batch.min(), eval_batch.max())\n",
    "\n",
    "# need to do data transformation with the flow\n",
    "eval_batch = eval_batch.to(device).float() * 255. / 256.\n",
    "eval_batch += torch.rand_like(eval_batch) / 256.\n",
    "eval_batch = scaler(eval_batch)"
   ]
  },
  {
   "cell_type": "code",
   "execution_count": 18,
   "id": "5d1a8a3d",
   "metadata": {},
   "outputs": [
    {
     "name": "stdout",
     "output_type": "stream",
     "text": [
      "tensor(-1.0000, device='cuda:0') tensor(1.0000, device='cuda:0')\n"
     ]
    }
   ],
   "source": [
    "# maybe this is bc it's a bad flow...? (NICE)\n",
    "print(eval_batch.min(), eval_batch.max())"
   ]
  },
  {
   "cell_type": "code",
   "execution_count": 19,
   "id": "5a56e154",
   "metadata": {},
   "outputs": [],
   "source": [
    "z_batch = (eval_batch + 1.) / 2."
   ]
  },
  {
   "cell_type": "markdown",
   "id": "6d062ef5",
   "metadata": {},
   "source": [
    "# Pass through flow"
   ]
  },
  {
   "cell_type": "code",
   "execution_count": 20,
   "id": "7606f3e5",
   "metadata": {},
   "outputs": [
    {
     "name": "stdout",
     "output_type": "stream",
     "text": [
      "tensor(5.9605e-08, device='cuda:0') tensor(1.0000, device='cuda:0')\n"
     ]
    }
   ],
   "source": [
    "print(z_batch.min(), z_batch.max())"
   ]
  },
  {
   "cell_type": "code",
   "execution_count": 21,
   "id": "7767f907",
   "metadata": {},
   "outputs": [],
   "source": [
    "z_batch *= 256."
   ]
  },
  {
   "cell_type": "code",
   "execution_count": 22,
   "id": "0f03f2d4",
   "metadata": {},
   "outputs": [],
   "source": [
    "z_batch = flow.module.transform_to_noise(z_batch, context=None)\n",
    "z_batch = z_batch.view(eval_batch.size())"
   ]
  },
  {
   "cell_type": "code",
   "execution_count": 23,
   "id": "98803aaa",
   "metadata": {},
   "outputs": [
    {
     "data": {
      "text/plain": [
       "torch.Size([64, 1, 28, 28])"
      ]
     },
     "execution_count": 23,
     "metadata": {},
     "output_type": "execute_result"
    }
   ],
   "source": [
    "z_batch.size()"
   ]
  },
  {
   "cell_type": "code",
   "execution_count": 24,
   "id": "48eb8a44",
   "metadata": {},
   "outputs": [
    {
     "data": {
      "text/plain": [
       "tensor(-3.4220, device='cuda:0', grad_fn=<MinBackward1>)"
      ]
     },
     "execution_count": 24,
     "metadata": {},
     "output_type": "execute_result"
    }
   ],
   "source": [
    "z_batch.min()"
   ]
  },
  {
   "cell_type": "code",
   "execution_count": 25,
   "id": "1a8e51a9",
   "metadata": {},
   "outputs": [
    {
     "data": {
      "text/plain": [
       "tensor(4.2954, device='cuda:0', grad_fn=<MaxBackward1>)"
      ]
     },
     "execution_count": 25,
     "metadata": {},
     "output_type": "execute_result"
    }
   ],
   "source": [
    "z_batch.max()"
   ]
  },
  {
   "cell_type": "code",
   "execution_count": 26,
   "id": "4bfbb336",
   "metadata": {},
   "outputs": [],
   "source": [
    "# now try sampling\n",
    "with torch.no_grad():\n",
    "  xt = flow.module.sample(z_batch.view(z_batch.size(0), -1))"
   ]
  },
  {
   "cell_type": "code",
   "execution_count": 27,
   "id": "218aec21",
   "metadata": {},
   "outputs": [
    {
     "data": {
      "text/plain": [
       "torch.Size([64, 1, 28, 28])"
      ]
     },
     "execution_count": 27,
     "metadata": {},
     "output_type": "execute_result"
    }
   ],
   "source": [
    "xt.size()"
   ]
  },
  {
   "cell_type": "code",
   "execution_count": 28,
   "id": "26414e64",
   "metadata": {},
   "outputs": [
    {
     "name": "stdout",
     "output_type": "stream",
     "text": [
      "tensor(-1.0000, device='cuda:0') tensor(1.0000, device='cuda:0')\n"
     ]
    }
   ],
   "source": [
    "print(xt.min(), xt.max())"
   ]
  },
  {
   "cell_type": "markdown",
   "id": "17f8acd9",
   "metadata": {},
   "source": [
    "# prior_log_p"
   ]
  },
  {
   "cell_type": "code",
   "execution_count": 29,
   "id": "b2e95107",
   "metadata": {},
   "outputs": [
    {
     "data": {
      "text/plain": [
       "torch.Size([64, 1, 28, 28])"
      ]
     },
     "execution_count": 29,
     "metadata": {},
     "output_type": "execute_result"
    }
   ],
   "source": [
    "eval_batch.size()"
   ]
  },
  {
   "cell_type": "code",
   "execution_count": 30,
   "id": "40c7c6de",
   "metadata": {},
   "outputs": [
    {
     "name": "stdout",
     "output_type": "stream",
     "text": [
      "tensor(-1.0000, device='cuda:0') tensor(1.0000, device='cuda:0')\n"
     ]
    }
   ],
   "source": [
    "print(eval_batch.min(), eval_batch.max())"
   ]
  },
  {
   "cell_type": "code",
   "execution_count": 31,
   "id": "b65ea594",
   "metadata": {},
   "outputs": [],
   "source": [
    "x = eval_batch\n",
    "\n",
    "# evaluates log p(x), where p(x) is a flow trained on MNIST\n",
    "n = x.size(0)\n",
    "shape = x.shape\n",
    "N = np.prod(shape[1:])\n",
    "with torch.no_grad():\n",
    "  flow.eval()\n",
    "  x = (x + 1.) / 2.\n",
    "  x *= 256.\n",
    "  # automatically gives you N(0,I) log porbability + all the transformations\n",
    "  log_p = flow.module._log_prob(x, context=None)"
   ]
  },
  {
   "cell_type": "code",
   "execution_count": 32,
   "id": "255a80df",
   "metadata": {},
   "outputs": [
    {
     "data": {
      "text/plain": [
       "tensor([-473.9811, -571.2052, -283.5872, -658.7700, -537.7698, -303.0933,\n",
       "        -600.9478, -550.1787, -637.5796, -705.4351, -689.2832, -775.5645,\n",
       "        -554.7825, -639.5021, -195.5388, -683.4736, -601.7542, -509.7871,\n",
       "        -792.9944, -488.0315, -557.6920, -525.2885, -600.6516, -600.0527,\n",
       "        -573.0840, -728.2312, -458.6936, -518.8071, -605.5979, -308.6138,\n",
       "        -526.0781, -264.1450, -564.2437, -663.1194, -517.7346, -736.6074,\n",
       "        -565.8015, -279.2668, -583.9272, -330.5635, -236.2866, -512.1133,\n",
       "        -493.4816, -491.9413, -450.6150, -638.8999, -351.2726, -646.9307,\n",
       "        -539.0155, -562.4788, -543.7146, -698.8940, -679.0281, -645.7028,\n",
       "        -785.1622, -568.5912, -593.4594, -275.0391, -581.6586, -556.6262,\n",
       "        -328.1572, -710.3114, -506.2484, -561.5027])"
      ]
     },
     "execution_count": 32,
     "metadata": {},
     "output_type": "execute_result"
    }
   ],
   "source": [
    "log_p"
   ]
  },
  {
   "cell_type": "code",
   "execution_count": 33,
   "id": "b88b54ee",
   "metadata": {},
   "outputs": [],
   "source": [
    "# we need another log_det for undoing the rescaling operation\n",
    "log_p = log_p - N * np.log(2)"
   ]
  },
  {
   "cell_type": "code",
   "execution_count": null,
   "id": "a03bf833",
   "metadata": {},
   "outputs": [],
   "source": [
    "# TODO: i think we may need another operation for multiplying back the 256."
   ]
  },
  {
   "cell_type": "code",
   "execution_count": 34,
   "id": "9153a844",
   "metadata": {},
   "outputs": [
    {
     "data": {
      "text/plain": [
       "tensor([-1017.4084, -1114.6326,  -827.0145, -1202.1974, -1081.1971,  -846.5206,\n",
       "        -1144.3751, -1093.6061, -1181.0070, -1248.8624, -1232.7106, -1318.9918,\n",
       "        -1098.2098, -1182.9294,  -738.9662, -1226.9010, -1145.1815, -1053.2145,\n",
       "        -1336.4218, -1031.4589, -1101.1194, -1068.7158, -1144.0790, -1143.4801,\n",
       "        -1116.5114, -1271.6586, -1002.1210, -1062.2345, -1149.0253,  -852.0411,\n",
       "        -1069.5055,  -807.5724, -1107.6710, -1206.5468, -1061.1620, -1280.0348,\n",
       "        -1109.2289,  -822.6942, -1127.3546,  -873.9908,  -779.7140, -1055.5406,\n",
       "        -1036.9089, -1035.3687,  -994.0424, -1182.3273,  -894.7000, -1190.3580,\n",
       "        -1082.4429, -1105.9061, -1087.1420, -1242.3214, -1222.4554, -1189.1301,\n",
       "        -1328.5896, -1112.0186, -1136.8867,  -818.4664, -1125.0859, -1100.0536,\n",
       "         -871.5846, -1253.7388, -1049.6758, -1104.9301])"
      ]
     },
     "execution_count": 34,
     "metadata": {},
     "output_type": "execute_result"
    }
   ],
   "source": [
    "log_p"
   ]
  },
  {
   "cell_type": "code",
   "execution_count": null,
   "id": "a55f1be8",
   "metadata": {},
   "outputs": [],
   "source": []
  }
 ],
 "metadata": {
  "kernelspec": {
   "display_name": "Python 3 (ipykernel)",
   "language": "python",
   "name": "python3"
  },
  "language_info": {
   "codemirror_mode": {
    "name": "ipython",
    "version": 3
   },
   "file_extension": ".py",
   "mimetype": "text/x-python",
   "name": "python",
   "nbconvert_exporter": "python",
   "pygments_lexer": "ipython3",
   "version": "3.7.10"
  }
 },
 "nbformat": 4,
 "nbformat_minor": 5
}
